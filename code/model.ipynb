{
 "cells": [
  {
   "cell_type": "code",
   "execution_count": 47,
   "id": "0d3f3afa",
   "metadata": {},
   "outputs": [],
   "source": [
    "import pandas as pd\n",
    "from sklearn.impute import KNNImputer\n",
    "from sklearn.preprocessing import OneHotEncoder\n",
    "from sklearn.model_selection import RepeatedStratifiedKFold\n",
    "\n",
    "from pycaret.classification import setup, compare_models, tune_model, finalize_model, predict_model\n",
    "import numpy as np\n",
    "from sklearn.metrics import f1_score, precision_score, recall_score, roc_auc_score\n",
    "from pycaret.classification import get_config\n",
    "\n",
    "from pycaret.classification import plot_model\n",
    "from pycaret.classification import interpret_model\n",
    "\n",
    "import plotly.express as px\n",
    "import plotly.graph_objects as go\n",
    "import plotly.io as pio\n",
    "\n",
    "from pycaret.classification import save_model, load_model\n",
    "\n",
    "import json\n"
   ]
  },
  {
   "cell_type": "code",
   "execution_count": null,
   "id": "8c08b672",
   "metadata": {},
   "outputs": [],
   "source": [
    "# Load data\n",
    "df = pd.read_csv(\"../data/past_information.csv\")\n",
    "\n",
    "\n",
    "# Drop irrelevant columns\n",
    "df = df.drop(columns=[\"Unnamed: 0\", \"id\"])\n",
    "\n",
    "# Separate features and target\n",
    "X = df.drop(columns=[\"stroke\"])\n",
    "y = df[\"stroke\"]\n",
    "\n",
    "# Identify categorical and numerical columns\n",
    "cat_cols = X.select_dtypes(include=\"object\").columns\n",
    "num_cols = X.select_dtypes(include=[\"int64\", \"float64\"]).columns\n",
    "\n",
    "# One-hot encode categorical variables\n",
    "encoder = OneHotEncoder(drop=\"first\", sparse_output=False)\n",
    "X_encoded = pd.DataFrame(encoder.fit_transform(X[cat_cols]), columns=encoder.get_feature_names_out(cat_cols))\n",
    "X_encoded\n",
    "\n",
    "\n",
    "# Combine with numerical features\n",
    "X_full = pd.concat([X[num_cols].reset_index(drop=True), X_encoded.reset_index(drop=True)], axis=1)\n",
    "\n",
    "\n",
    "# Apply KNN imputation for missing values\n",
    "imputer = KNNImputer(n_neighbors=5)\n",
    "X_imputed = pd.DataFrame(imputer.fit_transform(X_full), columns=X_full.columns)\n",
    "\n",
    "# Final dataset ready for PyCaret\n",
    "final_data = pd.concat([X_imputed, y.reset_index(drop=True)], axis=1)"
   ]
  },
  {
   "cell_type": "code",
   "execution_count": 3,
   "id": "063b02cf",
   "metadata": {},
   "outputs": [
    {
     "data": {
      "application/vnd.microsoft.datawrangler.viewer.v0+json": {
       "columns": [
        {
         "name": "stroke",
         "rawType": "int64",
         "type": "integer"
        },
        {
         "name": "count",
         "rawType": "int64",
         "type": "integer"
        }
       ],
       "ref": "f52a95ac-f976-4260-96f2-d062f3403ae2",
       "rows": [
        [
         "0",
         "4860"
        ],
        [
         "1",
         "249"
        ]
       ],
       "shape": {
        "columns": 1,
        "rows": 2
       }
      },
      "text/plain": [
       "stroke\n",
       "0    4860\n",
       "1     249\n",
       "Name: count, dtype: int64"
      ]
     },
     "execution_count": 3,
     "metadata": {},
     "output_type": "execute_result"
    }
   ],
   "source": [
    "final_data['stroke'].value_counts()"
   ]
  },
  {
   "cell_type": "code",
   "execution_count": 4,
   "id": "cc223674",
   "metadata": {},
   "outputs": [
    {
     "data": {
      "text/html": [
       "<style type=\"text/css\">\n",
       "</style>\n",
       "<table id=\"T_fff91\">\n",
       "  <thead>\n",
       "    <tr>\n",
       "      <th class=\"blank level0\" >&nbsp;</th>\n",
       "      <th id=\"T_fff91_level0_col0\" class=\"col_heading level0 col0\" >Description</th>\n",
       "      <th id=\"T_fff91_level0_col1\" class=\"col_heading level0 col1\" >Value</th>\n",
       "    </tr>\n",
       "  </thead>\n",
       "  <tbody>\n",
       "    <tr>\n",
       "      <th id=\"T_fff91_level0_row0\" class=\"row_heading level0 row0\" >0</th>\n",
       "      <td id=\"T_fff91_row0_col0\" class=\"data row0 col0\" >Session id</td>\n",
       "      <td id=\"T_fff91_row0_col1\" class=\"data row0 col1\" >123</td>\n",
       "    </tr>\n",
       "    <tr>\n",
       "      <th id=\"T_fff91_level0_row1\" class=\"row_heading level0 row1\" >1</th>\n",
       "      <td id=\"T_fff91_row1_col0\" class=\"data row1 col0\" >Target</td>\n",
       "      <td id=\"T_fff91_row1_col1\" class=\"data row1 col1\" >stroke</td>\n",
       "    </tr>\n",
       "    <tr>\n",
       "      <th id=\"T_fff91_level0_row2\" class=\"row_heading level0 row2\" >2</th>\n",
       "      <td id=\"T_fff91_row2_col0\" class=\"data row2 col0\" >Target type</td>\n",
       "      <td id=\"T_fff91_row2_col1\" class=\"data row2 col1\" >Binary</td>\n",
       "    </tr>\n",
       "    <tr>\n",
       "      <th id=\"T_fff91_level0_row3\" class=\"row_heading level0 row3\" >3</th>\n",
       "      <td id=\"T_fff91_row3_col0\" class=\"data row3 col0\" >Original data shape</td>\n",
       "      <td id=\"T_fff91_row3_col1\" class=\"data row3 col1\" >(5109, 17)</td>\n",
       "    </tr>\n",
       "    <tr>\n",
       "      <th id=\"T_fff91_level0_row4\" class=\"row_heading level0 row4\" >4</th>\n",
       "      <td id=\"T_fff91_row4_col0\" class=\"data row4 col0\" >Transformed data shape</td>\n",
       "      <td id=\"T_fff91_row4_col1\" class=\"data row4 col1\" >(5109, 17)</td>\n",
       "    </tr>\n",
       "    <tr>\n",
       "      <th id=\"T_fff91_level0_row5\" class=\"row_heading level0 row5\" >5</th>\n",
       "      <td id=\"T_fff91_row5_col0\" class=\"data row5 col0\" >Transformed train set shape</td>\n",
       "      <td id=\"T_fff91_row5_col1\" class=\"data row5 col1\" >(4087, 17)</td>\n",
       "    </tr>\n",
       "    <tr>\n",
       "      <th id=\"T_fff91_level0_row6\" class=\"row_heading level0 row6\" >6</th>\n",
       "      <td id=\"T_fff91_row6_col0\" class=\"data row6 col0\" >Transformed test set shape</td>\n",
       "      <td id=\"T_fff91_row6_col1\" class=\"data row6 col1\" >(1022, 17)</td>\n",
       "    </tr>\n",
       "    <tr>\n",
       "      <th id=\"T_fff91_level0_row7\" class=\"row_heading level0 row7\" >7</th>\n",
       "      <td id=\"T_fff91_row7_col0\" class=\"data row7 col0\" >Numeric features</td>\n",
       "      <td id=\"T_fff91_row7_col1\" class=\"data row7 col1\" >16</td>\n",
       "    </tr>\n",
       "  </tbody>\n",
       "</table>\n"
      ],
      "text/plain": [
       "<pandas.io.formats.style.Styler at 0x1c616fe27a0>"
      ]
     },
     "metadata": {},
     "output_type": "display_data"
    },
    {
     "data": {
      "text/html": [],
      "text/plain": [
       "<IPython.core.display.HTML object>"
      ]
     },
     "metadata": {},
     "output_type": "display_data"
    },
    {
     "data": {
      "text/html": [
       "<style type=\"text/css\">\n",
       "#T_8a8fa th {\n",
       "  text-align: left;\n",
       "}\n",
       "#T_8a8fa_row0_col0, #T_8a8fa_row0_col3, #T_8a8fa_row0_col4, #T_8a8fa_row0_col5, #T_8a8fa_row0_col6, #T_8a8fa_row0_col7, #T_8a8fa_row1_col0, #T_8a8fa_row1_col1, #T_8a8fa_row1_col2, #T_8a8fa_row1_col3, #T_8a8fa_row1_col4, #T_8a8fa_row1_col5, #T_8a8fa_row1_col6, #T_8a8fa_row1_col7, #T_8a8fa_row2_col0, #T_8a8fa_row2_col1, #T_8a8fa_row2_col2, #T_8a8fa_row2_col3, #T_8a8fa_row2_col5, #T_8a8fa_row2_col6, #T_8a8fa_row2_col7, #T_8a8fa_row3_col0, #T_8a8fa_row3_col1, #T_8a8fa_row3_col2, #T_8a8fa_row3_col3, #T_8a8fa_row3_col4, #T_8a8fa_row3_col5, #T_8a8fa_row3_col6, #T_8a8fa_row3_col7, #T_8a8fa_row4_col0, #T_8a8fa_row4_col1, #T_8a8fa_row4_col2, #T_8a8fa_row4_col3, #T_8a8fa_row4_col4, #T_8a8fa_row4_col5, #T_8a8fa_row4_col6, #T_8a8fa_row4_col7, #T_8a8fa_row5_col0, #T_8a8fa_row5_col1, #T_8a8fa_row5_col2, #T_8a8fa_row5_col4, #T_8a8fa_row5_col6, #T_8a8fa_row6_col0, #T_8a8fa_row6_col1, #T_8a8fa_row6_col2, #T_8a8fa_row6_col3, #T_8a8fa_row6_col4, #T_8a8fa_row6_col5, #T_8a8fa_row6_col6, #T_8a8fa_row6_col7, #T_8a8fa_row7_col0, #T_8a8fa_row7_col1, #T_8a8fa_row7_col2, #T_8a8fa_row7_col3, #T_8a8fa_row7_col4, #T_8a8fa_row7_col5, #T_8a8fa_row7_col6, #T_8a8fa_row7_col7, #T_8a8fa_row8_col0, #T_8a8fa_row8_col1, #T_8a8fa_row8_col2, #T_8a8fa_row8_col3, #T_8a8fa_row8_col4, #T_8a8fa_row8_col5, #T_8a8fa_row8_col6, #T_8a8fa_row8_col7, #T_8a8fa_row9_col0, #T_8a8fa_row9_col1, #T_8a8fa_row9_col2, #T_8a8fa_row9_col3, #T_8a8fa_row9_col4, #T_8a8fa_row9_col5, #T_8a8fa_row9_col6, #T_8a8fa_row9_col7, #T_8a8fa_row10_col0, #T_8a8fa_row10_col1, #T_8a8fa_row10_col2, #T_8a8fa_row10_col3, #T_8a8fa_row10_col4, #T_8a8fa_row10_col5, #T_8a8fa_row10_col6, #T_8a8fa_row10_col7, #T_8a8fa_row11_col0, #T_8a8fa_row11_col1, #T_8a8fa_row11_col2, #T_8a8fa_row11_col3, #T_8a8fa_row11_col4, #T_8a8fa_row11_col5, #T_8a8fa_row11_col6, #T_8a8fa_row11_col7, #T_8a8fa_row12_col0, #T_8a8fa_row12_col1, #T_8a8fa_row12_col2, #T_8a8fa_row12_col3, #T_8a8fa_row12_col4, #T_8a8fa_row12_col5, #T_8a8fa_row12_col7, #T_8a8fa_row13_col0, #T_8a8fa_row13_col1, #T_8a8fa_row13_col2, #T_8a8fa_row13_col3, #T_8a8fa_row13_col4, #T_8a8fa_row13_col5, #T_8a8fa_row13_col6, #T_8a8fa_row13_col7 {\n",
       "  text-align: left;\n",
       "}\n",
       "#T_8a8fa_row0_col1, #T_8a8fa_row0_col2, #T_8a8fa_row2_col4, #T_8a8fa_row5_col3, #T_8a8fa_row5_col5, #T_8a8fa_row5_col7, #T_8a8fa_row12_col6 {\n",
       "  text-align: left;\n",
       "  background-color: yellow;\n",
       "}\n",
       "#T_8a8fa_row0_col8, #T_8a8fa_row1_col8, #T_8a8fa_row2_col8, #T_8a8fa_row3_col8, #T_8a8fa_row4_col8, #T_8a8fa_row5_col8, #T_8a8fa_row6_col8, #T_8a8fa_row7_col8, #T_8a8fa_row8_col8, #T_8a8fa_row9_col8, #T_8a8fa_row10_col8, #T_8a8fa_row11_col8, #T_8a8fa_row12_col8 {\n",
       "  text-align: left;\n",
       "  background-color: lightgrey;\n",
       "}\n",
       "#T_8a8fa_row13_col8 {\n",
       "  text-align: left;\n",
       "  background-color: yellow;\n",
       "  background-color: lightgrey;\n",
       "}\n",
       "</style>\n",
       "<table id=\"T_8a8fa\">\n",
       "  <thead>\n",
       "    <tr>\n",
       "      <th class=\"blank level0\" >&nbsp;</th>\n",
       "      <th id=\"T_8a8fa_level0_col0\" class=\"col_heading level0 col0\" >Model</th>\n",
       "      <th id=\"T_8a8fa_level0_col1\" class=\"col_heading level0 col1\" >Accuracy</th>\n",
       "      <th id=\"T_8a8fa_level0_col2\" class=\"col_heading level0 col2\" >AUC</th>\n",
       "      <th id=\"T_8a8fa_level0_col3\" class=\"col_heading level0 col3\" >Recall</th>\n",
       "      <th id=\"T_8a8fa_level0_col4\" class=\"col_heading level0 col4\" >Prec.</th>\n",
       "      <th id=\"T_8a8fa_level0_col5\" class=\"col_heading level0 col5\" >F1</th>\n",
       "      <th id=\"T_8a8fa_level0_col6\" class=\"col_heading level0 col6\" >Kappa</th>\n",
       "      <th id=\"T_8a8fa_level0_col7\" class=\"col_heading level0 col7\" >MCC</th>\n",
       "      <th id=\"T_8a8fa_level0_col8\" class=\"col_heading level0 col8\" >TT (Sec)</th>\n",
       "    </tr>\n",
       "  </thead>\n",
       "  <tbody>\n",
       "    <tr>\n",
       "      <th id=\"T_8a8fa_level0_row0\" class=\"row_heading level0 row0\" >lr</th>\n",
       "      <td id=\"T_8a8fa_row0_col0\" class=\"data row0 col0\" >Logistic Regression</td>\n",
       "      <td id=\"T_8a8fa_row0_col1\" class=\"data row0 col1\" >0.9515</td>\n",
       "      <td id=\"T_8a8fa_row0_col2\" class=\"data row0 col2\" >0.8299</td>\n",
       "      <td id=\"T_8a8fa_row0_col3\" class=\"data row0 col3\" >0.0045</td>\n",
       "      <td id=\"T_8a8fa_row0_col4\" class=\"data row0 col4\" >0.1800</td>\n",
       "      <td id=\"T_8a8fa_row0_col5\" class=\"data row0 col5\" >0.0088</td>\n",
       "      <td id=\"T_8a8fa_row0_col6\" class=\"data row0 col6\" >0.0083</td>\n",
       "      <td id=\"T_8a8fa_row0_col7\" class=\"data row0 col7\" >0.0275</td>\n",
       "      <td id=\"T_8a8fa_row0_col8\" class=\"data row0 col8\" >0.1012</td>\n",
       "    </tr>\n",
       "    <tr>\n",
       "      <th id=\"T_8a8fa_level0_row1\" class=\"row_heading level0 row1\" >ridge</th>\n",
       "      <td id=\"T_8a8fa_row1_col0\" class=\"data row1 col0\" >Ridge Classifier</td>\n",
       "      <td id=\"T_8a8fa_row1_col1\" class=\"data row1 col1\" >0.9513</td>\n",
       "      <td id=\"T_8a8fa_row1_col2\" class=\"data row1 col2\" >0.8240</td>\n",
       "      <td id=\"T_8a8fa_row1_col3\" class=\"data row1 col3\" >0.0000</td>\n",
       "      <td id=\"T_8a8fa_row1_col4\" class=\"data row1 col4\" >0.0000</td>\n",
       "      <td id=\"T_8a8fa_row1_col5\" class=\"data row1 col5\" >0.0000</td>\n",
       "      <td id=\"T_8a8fa_row1_col6\" class=\"data row1 col6\" >0.0000</td>\n",
       "      <td id=\"T_8a8fa_row1_col7\" class=\"data row1 col7\" >0.0000</td>\n",
       "      <td id=\"T_8a8fa_row1_col8\" class=\"data row1 col8\" >0.0032</td>\n",
       "    </tr>\n",
       "    <tr>\n",
       "      <th id=\"T_8a8fa_level0_row2\" class=\"row_heading level0 row2\" >lda</th>\n",
       "      <td id=\"T_8a8fa_row2_col0\" class=\"data row2 col0\" >Linear Discriminant Analysis</td>\n",
       "      <td id=\"T_8a8fa_row2_col1\" class=\"data row2 col1\" >0.9460</td>\n",
       "      <td id=\"T_8a8fa_row2_col2\" class=\"data row2 col2\" >0.8240</td>\n",
       "      <td id=\"T_8a8fa_row2_col3\" class=\"data row2 col3\" >0.0522</td>\n",
       "      <td id=\"T_8a8fa_row2_col4\" class=\"data row2 col4\" >0.2566</td>\n",
       "      <td id=\"T_8a8fa_row2_col5\" class=\"data row2 col5\" >0.0856</td>\n",
       "      <td id=\"T_8a8fa_row2_col6\" class=\"data row2 col6\" >0.0698</td>\n",
       "      <td id=\"T_8a8fa_row2_col7\" class=\"data row2 col7\" >0.0948</td>\n",
       "      <td id=\"T_8a8fa_row2_col8\" class=\"data row2 col8\" >0.0032</td>\n",
       "    </tr>\n",
       "    <tr>\n",
       "      <th id=\"T_8a8fa_level0_row3\" class=\"row_heading level0 row3\" >gbc</th>\n",
       "      <td id=\"T_8a8fa_row3_col0\" class=\"data row3 col0\" >Gradient Boosting Classifier</td>\n",
       "      <td id=\"T_8a8fa_row3_col1\" class=\"data row3 col1\" >0.9485</td>\n",
       "      <td id=\"T_8a8fa_row3_col2\" class=\"data row3 col2\" >0.8098</td>\n",
       "      <td id=\"T_8a8fa_row3_col3\" class=\"data row3 col3\" >0.0096</td>\n",
       "      <td id=\"T_8a8fa_row3_col4\" class=\"data row3 col4\" >0.1256</td>\n",
       "      <td id=\"T_8a8fa_row3_col5\" class=\"data row3 col5\" >0.0172</td>\n",
       "      <td id=\"T_8a8fa_row3_col6\" class=\"data row3 col6\" >0.0105</td>\n",
       "      <td id=\"T_8a8fa_row3_col7\" class=\"data row3 col7\" >0.0205</td>\n",
       "      <td id=\"T_8a8fa_row3_col8\" class=\"data row3 col8\" >0.0404</td>\n",
       "    </tr>\n",
       "    <tr>\n",
       "      <th id=\"T_8a8fa_level0_row4\" class=\"row_heading level0 row4\" >ada</th>\n",
       "      <td id=\"T_8a8fa_row4_col0\" class=\"data row4 col0\" >Ada Boost Classifier</td>\n",
       "      <td id=\"T_8a8fa_row4_col1\" class=\"data row4 col1\" >0.9502</td>\n",
       "      <td id=\"T_8a8fa_row4_col2\" class=\"data row4 col2\" >0.8001</td>\n",
       "      <td id=\"T_8a8fa_row4_col3\" class=\"data row4 col3\" >0.0076</td>\n",
       "      <td id=\"T_8a8fa_row4_col4\" class=\"data row4 col4\" >0.1683</td>\n",
       "      <td id=\"T_8a8fa_row4_col5\" class=\"data row4 col5\" >0.0143</td>\n",
       "      <td id=\"T_8a8fa_row4_col6\" class=\"data row4 col6\" >0.0108</td>\n",
       "      <td id=\"T_8a8fa_row4_col7\" class=\"data row4 col7\" >0.0270</td>\n",
       "      <td id=\"T_8a8fa_row4_col8\" class=\"data row4 col8\" >0.0190</td>\n",
       "    </tr>\n",
       "    <tr>\n",
       "      <th id=\"T_8a8fa_level0_row5\" class=\"row_heading level0 row5\" >nb</th>\n",
       "      <td id=\"T_8a8fa_row5_col0\" class=\"data row5 col0\" >Naive Bayes</td>\n",
       "      <td id=\"T_8a8fa_row5_col1\" class=\"data row5 col1\" >0.4063</td>\n",
       "      <td id=\"T_8a8fa_row5_col2\" class=\"data row5 col2\" >0.7995</td>\n",
       "      <td id=\"T_8a8fa_row5_col3\" class=\"data row5 col3\" >0.9679</td>\n",
       "      <td id=\"T_8a8fa_row5_col4\" class=\"data row5 col4\" >0.0746</td>\n",
       "      <td id=\"T_8a8fa_row5_col5\" class=\"data row5 col5\" >0.1384</td>\n",
       "      <td id=\"T_8a8fa_row5_col6\" class=\"data row5 col6\" >0.0528</td>\n",
       "      <td id=\"T_8a8fa_row5_col7\" class=\"data row5 col7\" >0.1564</td>\n",
       "      <td id=\"T_8a8fa_row5_col8\" class=\"data row5 col8\" >0.0036</td>\n",
       "    </tr>\n",
       "    <tr>\n",
       "      <th id=\"T_8a8fa_level0_row6\" class=\"row_heading level0 row6\" >lightgbm</th>\n",
       "      <td id=\"T_8a8fa_row6_col0\" class=\"data row6 col0\" >Light Gradient Boosting Machine</td>\n",
       "      <td id=\"T_8a8fa_row6_col1\" class=\"data row6 col1\" >0.9459</td>\n",
       "      <td id=\"T_8a8fa_row6_col2\" class=\"data row6 col2\" >0.7948</td>\n",
       "      <td id=\"T_8a8fa_row6_col3\" class=\"data row6 col3\" >0.0387</td>\n",
       "      <td id=\"T_8a8fa_row6_col4\" class=\"data row6 col4\" >0.2083</td>\n",
       "      <td id=\"T_8a8fa_row6_col5\" class=\"data row6 col5\" >0.0635</td>\n",
       "      <td id=\"T_8a8fa_row6_col6\" class=\"data row6 col6\" >0.0493</td>\n",
       "      <td id=\"T_8a8fa_row6_col7\" class=\"data row6 col7\" >0.0682</td>\n",
       "      <td id=\"T_8a8fa_row6_col8\" class=\"data row6 col8\" >0.0840</td>\n",
       "    </tr>\n",
       "    <tr>\n",
       "      <th id=\"T_8a8fa_level0_row7\" class=\"row_heading level0 row7\" >rf</th>\n",
       "      <td id=\"T_8a8fa_row7_col0\" class=\"data row7 col0\" >Random Forest Classifier</td>\n",
       "      <td id=\"T_8a8fa_row7_col1\" class=\"data row7 col1\" >0.9503</td>\n",
       "      <td id=\"T_8a8fa_row7_col2\" class=\"data row7 col2\" >0.7734</td>\n",
       "      <td id=\"T_8a8fa_row7_col3\" class=\"data row7 col3\" >0.0045</td>\n",
       "      <td id=\"T_8a8fa_row7_col4\" class=\"data row7 col4\" >0.0833</td>\n",
       "      <td id=\"T_8a8fa_row7_col5\" class=\"data row7 col5\" >0.0085</td>\n",
       "      <td id=\"T_8a8fa_row7_col6\" class=\"data row7 col6\" >0.0057</td>\n",
       "      <td id=\"T_8a8fa_row7_col7\" class=\"data row7 col7\" >0.0124</td>\n",
       "      <td id=\"T_8a8fa_row7_col8\" class=\"data row7 col8\" >0.0410</td>\n",
       "    </tr>\n",
       "    <tr>\n",
       "      <th id=\"T_8a8fa_level0_row8\" class=\"row_heading level0 row8\" >et</th>\n",
       "      <td id=\"T_8a8fa_row8_col0\" class=\"data row8 col0\" >Extra Trees Classifier</td>\n",
       "      <td id=\"T_8a8fa_row8_col1\" class=\"data row8 col1\" >0.9452</td>\n",
       "      <td id=\"T_8a8fa_row8_col2\" class=\"data row8 col2\" >0.7340</td>\n",
       "      <td id=\"T_8a8fa_row8_col3\" class=\"data row8 col3\" >0.0347</td>\n",
       "      <td id=\"T_8a8fa_row8_col4\" class=\"data row8 col4\" >0.1828</td>\n",
       "      <td id=\"T_8a8fa_row8_col5\" class=\"data row8 col5\" >0.0574</td>\n",
       "      <td id=\"T_8a8fa_row8_col6\" class=\"data row8 col6\" >0.0426</td>\n",
       "      <td id=\"T_8a8fa_row8_col7\" class=\"data row8 col7\" >0.0592</td>\n",
       "      <td id=\"T_8a8fa_row8_col8\" class=\"data row8 col8\" >0.0338</td>\n",
       "    </tr>\n",
       "    <tr>\n",
       "      <th id=\"T_8a8fa_level0_row9\" class=\"row_heading level0 row9\" >svm</th>\n",
       "      <td id=\"T_8a8fa_row9_col0\" class=\"data row9 col0\" >SVM - Linear Kernel</td>\n",
       "      <td id=\"T_8a8fa_row9_col1\" class=\"data row9 col1\" >0.9145</td>\n",
       "      <td id=\"T_8a8fa_row9_col2\" class=\"data row9 col2\" >0.6845</td>\n",
       "      <td id=\"T_8a8fa_row9_col3\" class=\"data row9 col3\" >0.1025</td>\n",
       "      <td id=\"T_8a8fa_row9_col4\" class=\"data row9 col4\" >0.0423</td>\n",
       "      <td id=\"T_8a8fa_row9_col5\" class=\"data row9 col5\" >0.0428</td>\n",
       "      <td id=\"T_8a8fa_row9_col6\" class=\"data row9 col6\" >0.0293</td>\n",
       "      <td id=\"T_8a8fa_row9_col7\" class=\"data row9 col7\" >0.0383</td>\n",
       "      <td id=\"T_8a8fa_row9_col8\" class=\"data row9 col8\" >0.0050</td>\n",
       "    </tr>\n",
       "    <tr>\n",
       "      <th id=\"T_8a8fa_level0_row10\" class=\"row_heading level0 row10\" >knn</th>\n",
       "      <td id=\"T_8a8fa_row10_col0\" class=\"data row10 col0\" >K Neighbors Classifier</td>\n",
       "      <td id=\"T_8a8fa_row10_col1\" class=\"data row10 col1\" >0.9444</td>\n",
       "      <td id=\"T_8a8fa_row10_col2\" class=\"data row10 col2\" >0.6498</td>\n",
       "      <td id=\"T_8a8fa_row10_col3\" class=\"data row10 col3\" >0.0206</td>\n",
       "      <td id=\"T_8a8fa_row10_col4\" class=\"data row10 col4\" >0.1157</td>\n",
       "      <td id=\"T_8a8fa_row10_col5\" class=\"data row10 col5\" >0.0345</td>\n",
       "      <td id=\"T_8a8fa_row10_col6\" class=\"data row10 col6\" >0.0200</td>\n",
       "      <td id=\"T_8a8fa_row10_col7\" class=\"data row10 col7\" >0.0285</td>\n",
       "      <td id=\"T_8a8fa_row10_col8\" class=\"data row10 col8\" >0.0096</td>\n",
       "    </tr>\n",
       "    <tr>\n",
       "      <th id=\"T_8a8fa_level0_row11\" class=\"row_heading level0 row11\" >qda</th>\n",
       "      <td id=\"T_8a8fa_row11_col0\" class=\"data row11 col0\" >Quadratic Discriminant Analysis</td>\n",
       "      <td id=\"T_8a8fa_row11_col1\" class=\"data row11 col1\" >0.5223</td>\n",
       "      <td id=\"T_8a8fa_row11_col2\" class=\"data row11 col2\" >0.5985</td>\n",
       "      <td id=\"T_8a8fa_row11_col3\" class=\"data row11 col3\" >0.5547</td>\n",
       "      <td id=\"T_8a8fa_row11_col4\" class=\"data row11 col4\" >0.0574</td>\n",
       "      <td id=\"T_8a8fa_row11_col5\" class=\"data row11 col5\" >0.0897</td>\n",
       "      <td id=\"T_8a8fa_row11_col6\" class=\"data row11 col6\" >0.0129</td>\n",
       "      <td id=\"T_8a8fa_row11_col7\" class=\"data row11 col7\" >0.0390</td>\n",
       "      <td id=\"T_8a8fa_row11_col8\" class=\"data row11 col8\" >0.0040</td>\n",
       "    </tr>\n",
       "    <tr>\n",
       "      <th id=\"T_8a8fa_level0_row12\" class=\"row_heading level0 row12\" >dt</th>\n",
       "      <td id=\"T_8a8fa_row12_col0\" class=\"data row12 col0\" >Decision Tree Classifier</td>\n",
       "      <td id=\"T_8a8fa_row12_col1\" class=\"data row12 col1\" >0.9087</td>\n",
       "      <td id=\"T_8a8fa_row12_col2\" class=\"data row12 col2\" >0.5496</td>\n",
       "      <td id=\"T_8a8fa_row12_col3\" class=\"data row12 col3\" >0.1518</td>\n",
       "      <td id=\"T_8a8fa_row12_col4\" class=\"data row12 col4\" >0.1270</td>\n",
       "      <td id=\"T_8a8fa_row12_col5\" class=\"data row12 col5\" >0.1374</td>\n",
       "      <td id=\"T_8a8fa_row12_col6\" class=\"data row12 col6\" >0.0898</td>\n",
       "      <td id=\"T_8a8fa_row12_col7\" class=\"data row12 col7\" >0.0906</td>\n",
       "      <td id=\"T_8a8fa_row12_col8\" class=\"data row12 col8\" >0.0038</td>\n",
       "    </tr>\n",
       "    <tr>\n",
       "      <th id=\"T_8a8fa_level0_row13\" class=\"row_heading level0 row13\" >dummy</th>\n",
       "      <td id=\"T_8a8fa_row13_col0\" class=\"data row13 col0\" >Dummy Classifier</td>\n",
       "      <td id=\"T_8a8fa_row13_col1\" class=\"data row13 col1\" >0.9513</td>\n",
       "      <td id=\"T_8a8fa_row13_col2\" class=\"data row13 col2\" >0.5000</td>\n",
       "      <td id=\"T_8a8fa_row13_col3\" class=\"data row13 col3\" >0.0000</td>\n",
       "      <td id=\"T_8a8fa_row13_col4\" class=\"data row13 col4\" >0.0000</td>\n",
       "      <td id=\"T_8a8fa_row13_col5\" class=\"data row13 col5\" >0.0000</td>\n",
       "      <td id=\"T_8a8fa_row13_col6\" class=\"data row13 col6\" >0.0000</td>\n",
       "      <td id=\"T_8a8fa_row13_col7\" class=\"data row13 col7\" >0.0000</td>\n",
       "      <td id=\"T_8a8fa_row13_col8\" class=\"data row13 col8\" >0.0030</td>\n",
       "    </tr>\n",
       "  </tbody>\n",
       "</table>\n"
      ],
      "text/plain": [
       "<pandas.io.formats.style.Styler at 0x1c6171d8670>"
      ]
     },
     "metadata": {},
     "output_type": "display_data"
    },
    {
     "data": {
      "text/html": [],
      "text/plain": [
       "<IPython.core.display.HTML object>"
      ]
     },
     "metadata": {},
     "output_type": "display_data"
    },
    {
     "data": {
      "text/html": [],
      "text/plain": [
       "<IPython.core.display.HTML object>"
      ]
     },
     "metadata": {},
     "output_type": "display_data"
    },
    {
     "data": {
      "text/html": [
       "<style type=\"text/css\">\n",
       "#T_7fae5_row50_col0, #T_7fae5_row50_col1, #T_7fae5_row50_col2, #T_7fae5_row50_col3, #T_7fae5_row50_col4, #T_7fae5_row50_col5, #T_7fae5_row50_col6 {\n",
       "  background: yellow;\n",
       "}\n",
       "</style>\n",
       "<table id=\"T_7fae5\">\n",
       "  <thead>\n",
       "    <tr>\n",
       "      <th class=\"blank level0\" >&nbsp;</th>\n",
       "      <th id=\"T_7fae5_level0_col0\" class=\"col_heading level0 col0\" >Accuracy</th>\n",
       "      <th id=\"T_7fae5_level0_col1\" class=\"col_heading level0 col1\" >AUC</th>\n",
       "      <th id=\"T_7fae5_level0_col2\" class=\"col_heading level0 col2\" >Recall</th>\n",
       "      <th id=\"T_7fae5_level0_col3\" class=\"col_heading level0 col3\" >Prec.</th>\n",
       "      <th id=\"T_7fae5_level0_col4\" class=\"col_heading level0 col4\" >F1</th>\n",
       "      <th id=\"T_7fae5_level0_col5\" class=\"col_heading level0 col5\" >Kappa</th>\n",
       "      <th id=\"T_7fae5_level0_col6\" class=\"col_heading level0 col6\" >MCC</th>\n",
       "    </tr>\n",
       "    <tr>\n",
       "      <th class=\"index_name level0\" >Fold</th>\n",
       "      <th class=\"blank col0\" >&nbsp;</th>\n",
       "      <th class=\"blank col1\" >&nbsp;</th>\n",
       "      <th class=\"blank col2\" >&nbsp;</th>\n",
       "      <th class=\"blank col3\" >&nbsp;</th>\n",
       "      <th class=\"blank col4\" >&nbsp;</th>\n",
       "      <th class=\"blank col5\" >&nbsp;</th>\n",
       "      <th class=\"blank col6\" >&nbsp;</th>\n",
       "    </tr>\n",
       "  </thead>\n",
       "  <tbody>\n",
       "    <tr>\n",
       "      <th id=\"T_7fae5_level0_row0\" class=\"row_heading level0 row0\" >0</th>\n",
       "      <td id=\"T_7fae5_row0_col0\" class=\"data row0 col0\" >0.9511</td>\n",
       "      <td id=\"T_7fae5_row0_col1\" class=\"data row0 col1\" >0.8324</td>\n",
       "      <td id=\"T_7fae5_row0_col2\" class=\"data row0 col2\" >0.0000</td>\n",
       "      <td id=\"T_7fae5_row0_col3\" class=\"data row0 col3\" >0.0000</td>\n",
       "      <td id=\"T_7fae5_row0_col4\" class=\"data row0 col4\" >0.0000</td>\n",
       "      <td id=\"T_7fae5_row0_col5\" class=\"data row0 col5\" >0.0000</td>\n",
       "      <td id=\"T_7fae5_row0_col6\" class=\"data row0 col6\" >0.0000</td>\n",
       "    </tr>\n",
       "    <tr>\n",
       "      <th id=\"T_7fae5_level0_row1\" class=\"row_heading level0 row1\" >1</th>\n",
       "      <td id=\"T_7fae5_row1_col0\" class=\"data row1 col0\" >0.9511</td>\n",
       "      <td id=\"T_7fae5_row1_col1\" class=\"data row1 col1\" >0.8263</td>\n",
       "      <td id=\"T_7fae5_row1_col2\" class=\"data row1 col2\" >0.0000</td>\n",
       "      <td id=\"T_7fae5_row1_col3\" class=\"data row1 col3\" >0.0000</td>\n",
       "      <td id=\"T_7fae5_row1_col4\" class=\"data row1 col4\" >0.0000</td>\n",
       "      <td id=\"T_7fae5_row1_col5\" class=\"data row1 col5\" >0.0000</td>\n",
       "      <td id=\"T_7fae5_row1_col6\" class=\"data row1 col6\" >0.0000</td>\n",
       "    </tr>\n",
       "    <tr>\n",
       "      <th id=\"T_7fae5_level0_row2\" class=\"row_heading level0 row2\" >2</th>\n",
       "      <td id=\"T_7fae5_row2_col0\" class=\"data row2 col0\" >0.9523</td>\n",
       "      <td id=\"T_7fae5_row2_col1\" class=\"data row2 col1\" >0.8298</td>\n",
       "      <td id=\"T_7fae5_row2_col2\" class=\"data row2 col2\" >0.0000</td>\n",
       "      <td id=\"T_7fae5_row2_col3\" class=\"data row2 col3\" >0.0000</td>\n",
       "      <td id=\"T_7fae5_row2_col4\" class=\"data row2 col4\" >0.0000</td>\n",
       "      <td id=\"T_7fae5_row2_col5\" class=\"data row2 col5\" >0.0000</td>\n",
       "      <td id=\"T_7fae5_row2_col6\" class=\"data row2 col6\" >0.0000</td>\n",
       "    </tr>\n",
       "    <tr>\n",
       "      <th id=\"T_7fae5_level0_row3\" class=\"row_heading level0 row3\" >3</th>\n",
       "      <td id=\"T_7fae5_row3_col0\" class=\"data row3 col0\" >0.9510</td>\n",
       "      <td id=\"T_7fae5_row3_col1\" class=\"data row3 col1\" >0.8562</td>\n",
       "      <td id=\"T_7fae5_row3_col2\" class=\"data row3 col2\" >0.0000</td>\n",
       "      <td id=\"T_7fae5_row3_col3\" class=\"data row3 col3\" >0.0000</td>\n",
       "      <td id=\"T_7fae5_row3_col4\" class=\"data row3 col4\" >0.0000</td>\n",
       "      <td id=\"T_7fae5_row3_col5\" class=\"data row3 col5\" >0.0000</td>\n",
       "      <td id=\"T_7fae5_row3_col6\" class=\"data row3 col6\" >0.0000</td>\n",
       "    </tr>\n",
       "    <tr>\n",
       "      <th id=\"T_7fae5_level0_row4\" class=\"row_heading level0 row4\" >4</th>\n",
       "      <td id=\"T_7fae5_row4_col0\" class=\"data row4 col0\" >0.9510</td>\n",
       "      <td id=\"T_7fae5_row4_col1\" class=\"data row4 col1\" >0.8087</td>\n",
       "      <td id=\"T_7fae5_row4_col2\" class=\"data row4 col2\" >0.0000</td>\n",
       "      <td id=\"T_7fae5_row4_col3\" class=\"data row4 col3\" >0.0000</td>\n",
       "      <td id=\"T_7fae5_row4_col4\" class=\"data row4 col4\" >0.0000</td>\n",
       "      <td id=\"T_7fae5_row4_col5\" class=\"data row4 col5\" >0.0000</td>\n",
       "      <td id=\"T_7fae5_row4_col6\" class=\"data row4 col6\" >0.0000</td>\n",
       "    </tr>\n",
       "    <tr>\n",
       "      <th id=\"T_7fae5_level0_row5\" class=\"row_heading level0 row5\" >5</th>\n",
       "      <td id=\"T_7fae5_row5_col0\" class=\"data row5 col0\" >0.9511</td>\n",
       "      <td id=\"T_7fae5_row5_col1\" class=\"data row5 col1\" >0.8011</td>\n",
       "      <td id=\"T_7fae5_row5_col2\" class=\"data row5 col2\" >0.0000</td>\n",
       "      <td id=\"T_7fae5_row5_col3\" class=\"data row5 col3\" >0.0000</td>\n",
       "      <td id=\"T_7fae5_row5_col4\" class=\"data row5 col4\" >0.0000</td>\n",
       "      <td id=\"T_7fae5_row5_col5\" class=\"data row5 col5\" >0.0000</td>\n",
       "      <td id=\"T_7fae5_row5_col6\" class=\"data row5 col6\" >0.0000</td>\n",
       "    </tr>\n",
       "    <tr>\n",
       "      <th id=\"T_7fae5_level0_row6\" class=\"row_heading level0 row6\" >6</th>\n",
       "      <td id=\"T_7fae5_row6_col0\" class=\"data row6 col0\" >0.9511</td>\n",
       "      <td id=\"T_7fae5_row6_col1\" class=\"data row6 col1\" >0.8438</td>\n",
       "      <td id=\"T_7fae5_row6_col2\" class=\"data row6 col2\" >0.0000</td>\n",
       "      <td id=\"T_7fae5_row6_col3\" class=\"data row6 col3\" >0.0000</td>\n",
       "      <td id=\"T_7fae5_row6_col4\" class=\"data row6 col4\" >0.0000</td>\n",
       "      <td id=\"T_7fae5_row6_col5\" class=\"data row6 col5\" >0.0000</td>\n",
       "      <td id=\"T_7fae5_row6_col6\" class=\"data row6 col6\" >0.0000</td>\n",
       "    </tr>\n",
       "    <tr>\n",
       "      <th id=\"T_7fae5_level0_row7\" class=\"row_heading level0 row7\" >7</th>\n",
       "      <td id=\"T_7fae5_row7_col0\" class=\"data row7 col0\" >0.9523</td>\n",
       "      <td id=\"T_7fae5_row7_col1\" class=\"data row7 col1\" >0.8267</td>\n",
       "      <td id=\"T_7fae5_row7_col2\" class=\"data row7 col2\" >0.0000</td>\n",
       "      <td id=\"T_7fae5_row7_col3\" class=\"data row7 col3\" >0.0000</td>\n",
       "      <td id=\"T_7fae5_row7_col4\" class=\"data row7 col4\" >0.0000</td>\n",
       "      <td id=\"T_7fae5_row7_col5\" class=\"data row7 col5\" >0.0000</td>\n",
       "      <td id=\"T_7fae5_row7_col6\" class=\"data row7 col6\" >0.0000</td>\n",
       "    </tr>\n",
       "    <tr>\n",
       "      <th id=\"T_7fae5_level0_row8\" class=\"row_heading level0 row8\" >8</th>\n",
       "      <td id=\"T_7fae5_row8_col0\" class=\"data row8 col0\" >0.9510</td>\n",
       "      <td id=\"T_7fae5_row8_col1\" class=\"data row8 col1\" >0.8856</td>\n",
       "      <td id=\"T_7fae5_row8_col2\" class=\"data row8 col2\" >0.0000</td>\n",
       "      <td id=\"T_7fae5_row8_col3\" class=\"data row8 col3\" >0.0000</td>\n",
       "      <td id=\"T_7fae5_row8_col4\" class=\"data row8 col4\" >0.0000</td>\n",
       "      <td id=\"T_7fae5_row8_col5\" class=\"data row8 col5\" >0.0000</td>\n",
       "      <td id=\"T_7fae5_row8_col6\" class=\"data row8 col6\" >0.0000</td>\n",
       "    </tr>\n",
       "    <tr>\n",
       "      <th id=\"T_7fae5_level0_row9\" class=\"row_heading level0 row9\" >9</th>\n",
       "      <td id=\"T_7fae5_row9_col0\" class=\"data row9 col0\" >0.9510</td>\n",
       "      <td id=\"T_7fae5_row9_col1\" class=\"data row9 col1\" >0.8084</td>\n",
       "      <td id=\"T_7fae5_row9_col2\" class=\"data row9 col2\" >0.0000</td>\n",
       "      <td id=\"T_7fae5_row9_col3\" class=\"data row9 col3\" >0.0000</td>\n",
       "      <td id=\"T_7fae5_row9_col4\" class=\"data row9 col4\" >0.0000</td>\n",
       "      <td id=\"T_7fae5_row9_col5\" class=\"data row9 col5\" >0.0000</td>\n",
       "      <td id=\"T_7fae5_row9_col6\" class=\"data row9 col6\" >0.0000</td>\n",
       "    </tr>\n",
       "    <tr>\n",
       "      <th id=\"T_7fae5_level0_row10\" class=\"row_heading level0 row10\" >10</th>\n",
       "      <td id=\"T_7fae5_row10_col0\" class=\"data row10 col0\" >0.9511</td>\n",
       "      <td id=\"T_7fae5_row10_col1\" class=\"data row10 col1\" >0.8506</td>\n",
       "      <td id=\"T_7fae5_row10_col2\" class=\"data row10 col2\" >0.0000</td>\n",
       "      <td id=\"T_7fae5_row10_col3\" class=\"data row10 col3\" >0.0000</td>\n",
       "      <td id=\"T_7fae5_row10_col4\" class=\"data row10 col4\" >0.0000</td>\n",
       "      <td id=\"T_7fae5_row10_col5\" class=\"data row10 col5\" >0.0000</td>\n",
       "      <td id=\"T_7fae5_row10_col6\" class=\"data row10 col6\" >0.0000</td>\n",
       "    </tr>\n",
       "    <tr>\n",
       "      <th id=\"T_7fae5_level0_row11\" class=\"row_heading level0 row11\" >11</th>\n",
       "      <td id=\"T_7fae5_row11_col0\" class=\"data row11 col0\" >0.9511</td>\n",
       "      <td id=\"T_7fae5_row11_col1\" class=\"data row11 col1\" >0.7991</td>\n",
       "      <td id=\"T_7fae5_row11_col2\" class=\"data row11 col2\" >0.0000</td>\n",
       "      <td id=\"T_7fae5_row11_col3\" class=\"data row11 col3\" >0.0000</td>\n",
       "      <td id=\"T_7fae5_row11_col4\" class=\"data row11 col4\" >0.0000</td>\n",
       "      <td id=\"T_7fae5_row11_col5\" class=\"data row11 col5\" >0.0000</td>\n",
       "      <td id=\"T_7fae5_row11_col6\" class=\"data row11 col6\" >0.0000</td>\n",
       "    </tr>\n",
       "    <tr>\n",
       "      <th id=\"T_7fae5_level0_row12\" class=\"row_heading level0 row12\" >12</th>\n",
       "      <td id=\"T_7fae5_row12_col0\" class=\"data row12 col0\" >0.9523</td>\n",
       "      <td id=\"T_7fae5_row12_col1\" class=\"data row12 col1\" >0.8260</td>\n",
       "      <td id=\"T_7fae5_row12_col2\" class=\"data row12 col2\" >0.0000</td>\n",
       "      <td id=\"T_7fae5_row12_col3\" class=\"data row12 col3\" >0.0000</td>\n",
       "      <td id=\"T_7fae5_row12_col4\" class=\"data row12 col4\" >0.0000</td>\n",
       "      <td id=\"T_7fae5_row12_col5\" class=\"data row12 col5\" >0.0000</td>\n",
       "      <td id=\"T_7fae5_row12_col6\" class=\"data row12 col6\" >0.0000</td>\n",
       "    </tr>\n",
       "    <tr>\n",
       "      <th id=\"T_7fae5_level0_row13\" class=\"row_heading level0 row13\" >13</th>\n",
       "      <td id=\"T_7fae5_row13_col0\" class=\"data row13 col0\" >0.9510</td>\n",
       "      <td id=\"T_7fae5_row13_col1\" class=\"data row13 col1\" >0.8739</td>\n",
       "      <td id=\"T_7fae5_row13_col2\" class=\"data row13 col2\" >0.0000</td>\n",
       "      <td id=\"T_7fae5_row13_col3\" class=\"data row13 col3\" >0.0000</td>\n",
       "      <td id=\"T_7fae5_row13_col4\" class=\"data row13 col4\" >0.0000</td>\n",
       "      <td id=\"T_7fae5_row13_col5\" class=\"data row13 col5\" >0.0000</td>\n",
       "      <td id=\"T_7fae5_row13_col6\" class=\"data row13 col6\" >0.0000</td>\n",
       "    </tr>\n",
       "    <tr>\n",
       "      <th id=\"T_7fae5_level0_row14\" class=\"row_heading level0 row14\" >14</th>\n",
       "      <td id=\"T_7fae5_row14_col0\" class=\"data row14 col0\" >0.9510</td>\n",
       "      <td id=\"T_7fae5_row14_col1\" class=\"data row14 col1\" >0.8117</td>\n",
       "      <td id=\"T_7fae5_row14_col2\" class=\"data row14 col2\" >0.0000</td>\n",
       "      <td id=\"T_7fae5_row14_col3\" class=\"data row14 col3\" >0.0000</td>\n",
       "      <td id=\"T_7fae5_row14_col4\" class=\"data row14 col4\" >0.0000</td>\n",
       "      <td id=\"T_7fae5_row14_col5\" class=\"data row14 col5\" >0.0000</td>\n",
       "      <td id=\"T_7fae5_row14_col6\" class=\"data row14 col6\" >0.0000</td>\n",
       "    </tr>\n",
       "    <tr>\n",
       "      <th id=\"T_7fae5_level0_row15\" class=\"row_heading level0 row15\" >15</th>\n",
       "      <td id=\"T_7fae5_row15_col0\" class=\"data row15 col0\" >0.9511</td>\n",
       "      <td id=\"T_7fae5_row15_col1\" class=\"data row15 col1\" >0.8672</td>\n",
       "      <td id=\"T_7fae5_row15_col2\" class=\"data row15 col2\" >0.0000</td>\n",
       "      <td id=\"T_7fae5_row15_col3\" class=\"data row15 col3\" >0.0000</td>\n",
       "      <td id=\"T_7fae5_row15_col4\" class=\"data row15 col4\" >0.0000</td>\n",
       "      <td id=\"T_7fae5_row15_col5\" class=\"data row15 col5\" >0.0000</td>\n",
       "      <td id=\"T_7fae5_row15_col6\" class=\"data row15 col6\" >0.0000</td>\n",
       "    </tr>\n",
       "    <tr>\n",
       "      <th id=\"T_7fae5_level0_row16\" class=\"row_heading level0 row16\" >16</th>\n",
       "      <td id=\"T_7fae5_row16_col0\" class=\"data row16 col0\" >0.9511</td>\n",
       "      <td id=\"T_7fae5_row16_col1\" class=\"data row16 col1\" >0.8252</td>\n",
       "      <td id=\"T_7fae5_row16_col2\" class=\"data row16 col2\" >0.0000</td>\n",
       "      <td id=\"T_7fae5_row16_col3\" class=\"data row16 col3\" >0.0000</td>\n",
       "      <td id=\"T_7fae5_row16_col4\" class=\"data row16 col4\" >0.0000</td>\n",
       "      <td id=\"T_7fae5_row16_col5\" class=\"data row16 col5\" >0.0000</td>\n",
       "      <td id=\"T_7fae5_row16_col6\" class=\"data row16 col6\" >0.0000</td>\n",
       "    </tr>\n",
       "    <tr>\n",
       "      <th id=\"T_7fae5_level0_row17\" class=\"row_heading level0 row17\" >17</th>\n",
       "      <td id=\"T_7fae5_row17_col0\" class=\"data row17 col0\" >0.9523</td>\n",
       "      <td id=\"T_7fae5_row17_col1\" class=\"data row17 col1\" >0.8117</td>\n",
       "      <td id=\"T_7fae5_row17_col2\" class=\"data row17 col2\" >0.0000</td>\n",
       "      <td id=\"T_7fae5_row17_col3\" class=\"data row17 col3\" >0.0000</td>\n",
       "      <td id=\"T_7fae5_row17_col4\" class=\"data row17 col4\" >0.0000</td>\n",
       "      <td id=\"T_7fae5_row17_col5\" class=\"data row17 col5\" >0.0000</td>\n",
       "      <td id=\"T_7fae5_row17_col6\" class=\"data row17 col6\" >0.0000</td>\n",
       "    </tr>\n",
       "    <tr>\n",
       "      <th id=\"T_7fae5_level0_row18\" class=\"row_heading level0 row18\" >18</th>\n",
       "      <td id=\"T_7fae5_row18_col0\" class=\"data row18 col0\" >0.9510</td>\n",
       "      <td id=\"T_7fae5_row18_col1\" class=\"data row18 col1\" >0.8444</td>\n",
       "      <td id=\"T_7fae5_row18_col2\" class=\"data row18 col2\" >0.0000</td>\n",
       "      <td id=\"T_7fae5_row18_col3\" class=\"data row18 col3\" >0.0000</td>\n",
       "      <td id=\"T_7fae5_row18_col4\" class=\"data row18 col4\" >0.0000</td>\n",
       "      <td id=\"T_7fae5_row18_col5\" class=\"data row18 col5\" >0.0000</td>\n",
       "      <td id=\"T_7fae5_row18_col6\" class=\"data row18 col6\" >0.0000</td>\n",
       "    </tr>\n",
       "    <tr>\n",
       "      <th id=\"T_7fae5_level0_row19\" class=\"row_heading level0 row19\" >19</th>\n",
       "      <td id=\"T_7fae5_row19_col0\" class=\"data row19 col0\" >0.9510</td>\n",
       "      <td id=\"T_7fae5_row19_col1\" class=\"data row19 col1\" >0.8099</td>\n",
       "      <td id=\"T_7fae5_row19_col2\" class=\"data row19 col2\" >0.0000</td>\n",
       "      <td id=\"T_7fae5_row19_col3\" class=\"data row19 col3\" >0.0000</td>\n",
       "      <td id=\"T_7fae5_row19_col4\" class=\"data row19 col4\" >0.0000</td>\n",
       "      <td id=\"T_7fae5_row19_col5\" class=\"data row19 col5\" >0.0000</td>\n",
       "      <td id=\"T_7fae5_row19_col6\" class=\"data row19 col6\" >0.0000</td>\n",
       "    </tr>\n",
       "    <tr>\n",
       "      <th id=\"T_7fae5_level0_row20\" class=\"row_heading level0 row20\" >20</th>\n",
       "      <td id=\"T_7fae5_row20_col0\" class=\"data row20 col0\" >0.9511</td>\n",
       "      <td id=\"T_7fae5_row20_col1\" class=\"data row20 col1\" >0.8454</td>\n",
       "      <td id=\"T_7fae5_row20_col2\" class=\"data row20 col2\" >0.0000</td>\n",
       "      <td id=\"T_7fae5_row20_col3\" class=\"data row20 col3\" >0.0000</td>\n",
       "      <td id=\"T_7fae5_row20_col4\" class=\"data row20 col4\" >0.0000</td>\n",
       "      <td id=\"T_7fae5_row20_col5\" class=\"data row20 col5\" >0.0000</td>\n",
       "      <td id=\"T_7fae5_row20_col6\" class=\"data row20 col6\" >0.0000</td>\n",
       "    </tr>\n",
       "    <tr>\n",
       "      <th id=\"T_7fae5_level0_row21\" class=\"row_heading level0 row21\" >21</th>\n",
       "      <td id=\"T_7fae5_row21_col0\" class=\"data row21 col0\" >0.9511</td>\n",
       "      <td id=\"T_7fae5_row21_col1\" class=\"data row21 col1\" >0.8211</td>\n",
       "      <td id=\"T_7fae5_row21_col2\" class=\"data row21 col2\" >0.0000</td>\n",
       "      <td id=\"T_7fae5_row21_col3\" class=\"data row21 col3\" >0.0000</td>\n",
       "      <td id=\"T_7fae5_row21_col4\" class=\"data row21 col4\" >0.0000</td>\n",
       "      <td id=\"T_7fae5_row21_col5\" class=\"data row21 col5\" >0.0000</td>\n",
       "      <td id=\"T_7fae5_row21_col6\" class=\"data row21 col6\" >0.0000</td>\n",
       "    </tr>\n",
       "    <tr>\n",
       "      <th id=\"T_7fae5_level0_row22\" class=\"row_heading level0 row22\" >22</th>\n",
       "      <td id=\"T_7fae5_row22_col0\" class=\"data row22 col0\" >0.9523</td>\n",
       "      <td id=\"T_7fae5_row22_col1\" class=\"data row22 col1\" >0.8496</td>\n",
       "      <td id=\"T_7fae5_row22_col2\" class=\"data row22 col2\" >0.0000</td>\n",
       "      <td id=\"T_7fae5_row22_col3\" class=\"data row22 col3\" >0.0000</td>\n",
       "      <td id=\"T_7fae5_row22_col4\" class=\"data row22 col4\" >0.0000</td>\n",
       "      <td id=\"T_7fae5_row22_col5\" class=\"data row22 col5\" >0.0000</td>\n",
       "      <td id=\"T_7fae5_row22_col6\" class=\"data row22 col6\" >0.0000</td>\n",
       "    </tr>\n",
       "    <tr>\n",
       "      <th id=\"T_7fae5_level0_row23\" class=\"row_heading level0 row23\" >23</th>\n",
       "      <td id=\"T_7fae5_row23_col0\" class=\"data row23 col0\" >0.9510</td>\n",
       "      <td id=\"T_7fae5_row23_col1\" class=\"data row23 col1\" >0.8342</td>\n",
       "      <td id=\"T_7fae5_row23_col2\" class=\"data row23 col2\" >0.0000</td>\n",
       "      <td id=\"T_7fae5_row23_col3\" class=\"data row23 col3\" >0.0000</td>\n",
       "      <td id=\"T_7fae5_row23_col4\" class=\"data row23 col4\" >0.0000</td>\n",
       "      <td id=\"T_7fae5_row23_col5\" class=\"data row23 col5\" >0.0000</td>\n",
       "      <td id=\"T_7fae5_row23_col6\" class=\"data row23 col6\" >0.0000</td>\n",
       "    </tr>\n",
       "    <tr>\n",
       "      <th id=\"T_7fae5_level0_row24\" class=\"row_heading level0 row24\" >24</th>\n",
       "      <td id=\"T_7fae5_row24_col0\" class=\"data row24 col0\" >0.9523</td>\n",
       "      <td id=\"T_7fae5_row24_col1\" class=\"data row24 col1\" >0.8067</td>\n",
       "      <td id=\"T_7fae5_row24_col2\" class=\"data row24 col2\" >0.0250</td>\n",
       "      <td id=\"T_7fae5_row24_col3\" class=\"data row24 col3\" >1.0000</td>\n",
       "      <td id=\"T_7fae5_row24_col4\" class=\"data row24 col4\" >0.0488</td>\n",
       "      <td id=\"T_7fae5_row24_col5\" class=\"data row24 col5\" >0.0465</td>\n",
       "      <td id=\"T_7fae5_row24_col6\" class=\"data row24 col6\" >0.1543</td>\n",
       "    </tr>\n",
       "    <tr>\n",
       "      <th id=\"T_7fae5_level0_row25\" class=\"row_heading level0 row25\" >25</th>\n",
       "      <td id=\"T_7fae5_row25_col0\" class=\"data row25 col0\" >0.9511</td>\n",
       "      <td id=\"T_7fae5_row25_col1\" class=\"data row25 col1\" >0.7923</td>\n",
       "      <td id=\"T_7fae5_row25_col2\" class=\"data row25 col2\" >0.0000</td>\n",
       "      <td id=\"T_7fae5_row25_col3\" class=\"data row25 col3\" >0.0000</td>\n",
       "      <td id=\"T_7fae5_row25_col4\" class=\"data row25 col4\" >0.0000</td>\n",
       "      <td id=\"T_7fae5_row25_col5\" class=\"data row25 col5\" >0.0000</td>\n",
       "      <td id=\"T_7fae5_row25_col6\" class=\"data row25 col6\" >0.0000</td>\n",
       "    </tr>\n",
       "    <tr>\n",
       "      <th id=\"T_7fae5_level0_row26\" class=\"row_heading level0 row26\" >26</th>\n",
       "      <td id=\"T_7fae5_row26_col0\" class=\"data row26 col0\" >0.9511</td>\n",
       "      <td id=\"T_7fae5_row26_col1\" class=\"data row26 col1\" >0.8293</td>\n",
       "      <td id=\"T_7fae5_row26_col2\" class=\"data row26 col2\" >0.0000</td>\n",
       "      <td id=\"T_7fae5_row26_col3\" class=\"data row26 col3\" >0.0000</td>\n",
       "      <td id=\"T_7fae5_row26_col4\" class=\"data row26 col4\" >0.0000</td>\n",
       "      <td id=\"T_7fae5_row26_col5\" class=\"data row26 col5\" >0.0000</td>\n",
       "      <td id=\"T_7fae5_row26_col6\" class=\"data row26 col6\" >0.0000</td>\n",
       "    </tr>\n",
       "    <tr>\n",
       "      <th id=\"T_7fae5_level0_row27\" class=\"row_heading level0 row27\" >27</th>\n",
       "      <td id=\"T_7fae5_row27_col0\" class=\"data row27 col0\" >0.9523</td>\n",
       "      <td id=\"T_7fae5_row27_col1\" class=\"data row27 col1\" >0.8709</td>\n",
       "      <td id=\"T_7fae5_row27_col2\" class=\"data row27 col2\" >0.0000</td>\n",
       "      <td id=\"T_7fae5_row27_col3\" class=\"data row27 col3\" >0.0000</td>\n",
       "      <td id=\"T_7fae5_row27_col4\" class=\"data row27 col4\" >0.0000</td>\n",
       "      <td id=\"T_7fae5_row27_col5\" class=\"data row27 col5\" >0.0000</td>\n",
       "      <td id=\"T_7fae5_row27_col6\" class=\"data row27 col6\" >0.0000</td>\n",
       "    </tr>\n",
       "    <tr>\n",
       "      <th id=\"T_7fae5_level0_row28\" class=\"row_heading level0 row28\" >28</th>\n",
       "      <td id=\"T_7fae5_row28_col0\" class=\"data row28 col0\" >0.9523</td>\n",
       "      <td id=\"T_7fae5_row28_col1\" class=\"data row28 col1\" >0.8317</td>\n",
       "      <td id=\"T_7fae5_row28_col2\" class=\"data row28 col2\" >0.0250</td>\n",
       "      <td id=\"T_7fae5_row28_col3\" class=\"data row28 col3\" >1.0000</td>\n",
       "      <td id=\"T_7fae5_row28_col4\" class=\"data row28 col4\" >0.0488</td>\n",
       "      <td id=\"T_7fae5_row28_col5\" class=\"data row28 col5\" >0.0465</td>\n",
       "      <td id=\"T_7fae5_row28_col6\" class=\"data row28 col6\" >0.1543</td>\n",
       "    </tr>\n",
       "    <tr>\n",
       "      <th id=\"T_7fae5_level0_row29\" class=\"row_heading level0 row29\" >29</th>\n",
       "      <td id=\"T_7fae5_row29_col0\" class=\"data row29 col0\" >0.9510</td>\n",
       "      <td id=\"T_7fae5_row29_col1\" class=\"data row29 col1\" >0.8396</td>\n",
       "      <td id=\"T_7fae5_row29_col2\" class=\"data row29 col2\" >0.0000</td>\n",
       "      <td id=\"T_7fae5_row29_col3\" class=\"data row29 col3\" >0.0000</td>\n",
       "      <td id=\"T_7fae5_row29_col4\" class=\"data row29 col4\" >0.0000</td>\n",
       "      <td id=\"T_7fae5_row29_col5\" class=\"data row29 col5\" >0.0000</td>\n",
       "      <td id=\"T_7fae5_row29_col6\" class=\"data row29 col6\" >0.0000</td>\n",
       "    </tr>\n",
       "    <tr>\n",
       "      <th id=\"T_7fae5_level0_row30\" class=\"row_heading level0 row30\" >30</th>\n",
       "      <td id=\"T_7fae5_row30_col0\" class=\"data row30 col0\" >0.9523</td>\n",
       "      <td id=\"T_7fae5_row30_col1\" class=\"data row30 col1\" >0.8106</td>\n",
       "      <td id=\"T_7fae5_row30_col2\" class=\"data row30 col2\" >0.0250</td>\n",
       "      <td id=\"T_7fae5_row30_col3\" class=\"data row30 col3\" >1.0000</td>\n",
       "      <td id=\"T_7fae5_row30_col4\" class=\"data row30 col4\" >0.0488</td>\n",
       "      <td id=\"T_7fae5_row30_col5\" class=\"data row30 col5\" >0.0465</td>\n",
       "      <td id=\"T_7fae5_row30_col6\" class=\"data row30 col6\" >0.1543</td>\n",
       "    </tr>\n",
       "    <tr>\n",
       "      <th id=\"T_7fae5_level0_row31\" class=\"row_heading level0 row31\" >31</th>\n",
       "      <td id=\"T_7fae5_row31_col0\" class=\"data row31 col0\" >0.9511</td>\n",
       "      <td id=\"T_7fae5_row31_col1\" class=\"data row31 col1\" >0.8534</td>\n",
       "      <td id=\"T_7fae5_row31_col2\" class=\"data row31 col2\" >0.0000</td>\n",
       "      <td id=\"T_7fae5_row31_col3\" class=\"data row31 col3\" >0.0000</td>\n",
       "      <td id=\"T_7fae5_row31_col4\" class=\"data row31 col4\" >0.0000</td>\n",
       "      <td id=\"T_7fae5_row31_col5\" class=\"data row31 col5\" >0.0000</td>\n",
       "      <td id=\"T_7fae5_row31_col6\" class=\"data row31 col6\" >0.0000</td>\n",
       "    </tr>\n",
       "    <tr>\n",
       "      <th id=\"T_7fae5_level0_row32\" class=\"row_heading level0 row32\" >32</th>\n",
       "      <td id=\"T_7fae5_row32_col0\" class=\"data row32 col0\" >0.9523</td>\n",
       "      <td id=\"T_7fae5_row32_col1\" class=\"data row32 col1\" >0.8412</td>\n",
       "      <td id=\"T_7fae5_row32_col2\" class=\"data row32 col2\" >0.0000</td>\n",
       "      <td id=\"T_7fae5_row32_col3\" class=\"data row32 col3\" >0.0000</td>\n",
       "      <td id=\"T_7fae5_row32_col4\" class=\"data row32 col4\" >0.0000</td>\n",
       "      <td id=\"T_7fae5_row32_col5\" class=\"data row32 col5\" >0.0000</td>\n",
       "      <td id=\"T_7fae5_row32_col6\" class=\"data row32 col6\" >0.0000</td>\n",
       "    </tr>\n",
       "    <tr>\n",
       "      <th id=\"T_7fae5_level0_row33\" class=\"row_heading level0 row33\" >33</th>\n",
       "      <td id=\"T_7fae5_row33_col0\" class=\"data row33 col0\" >0.9510</td>\n",
       "      <td id=\"T_7fae5_row33_col1\" class=\"data row33 col1\" >0.8319</td>\n",
       "      <td id=\"T_7fae5_row33_col2\" class=\"data row33 col2\" >0.0000</td>\n",
       "      <td id=\"T_7fae5_row33_col3\" class=\"data row33 col3\" >0.0000</td>\n",
       "      <td id=\"T_7fae5_row33_col4\" class=\"data row33 col4\" >0.0000</td>\n",
       "      <td id=\"T_7fae5_row33_col5\" class=\"data row33 col5\" >0.0000</td>\n",
       "      <td id=\"T_7fae5_row33_col6\" class=\"data row33 col6\" >0.0000</td>\n",
       "    </tr>\n",
       "    <tr>\n",
       "      <th id=\"T_7fae5_level0_row34\" class=\"row_heading level0 row34\" >34</th>\n",
       "      <td id=\"T_7fae5_row34_col0\" class=\"data row34 col0\" >0.9510</td>\n",
       "      <td id=\"T_7fae5_row34_col1\" class=\"data row34 col1\" >0.8255</td>\n",
       "      <td id=\"T_7fae5_row34_col2\" class=\"data row34 col2\" >0.0000</td>\n",
       "      <td id=\"T_7fae5_row34_col3\" class=\"data row34 col3\" >0.0000</td>\n",
       "      <td id=\"T_7fae5_row34_col4\" class=\"data row34 col4\" >0.0000</td>\n",
       "      <td id=\"T_7fae5_row34_col5\" class=\"data row34 col5\" >0.0000</td>\n",
       "      <td id=\"T_7fae5_row34_col6\" class=\"data row34 col6\" >0.0000</td>\n",
       "    </tr>\n",
       "    <tr>\n",
       "      <th id=\"T_7fae5_level0_row35\" class=\"row_heading level0 row35\" >35</th>\n",
       "      <td id=\"T_7fae5_row35_col0\" class=\"data row35 col0\" >0.9511</td>\n",
       "      <td id=\"T_7fae5_row35_col1\" class=\"data row35 col1\" >0.8341</td>\n",
       "      <td id=\"T_7fae5_row35_col2\" class=\"data row35 col2\" >0.0000</td>\n",
       "      <td id=\"T_7fae5_row35_col3\" class=\"data row35 col3\" >0.0000</td>\n",
       "      <td id=\"T_7fae5_row35_col4\" class=\"data row35 col4\" >0.0000</td>\n",
       "      <td id=\"T_7fae5_row35_col5\" class=\"data row35 col5\" >0.0000</td>\n",
       "      <td id=\"T_7fae5_row35_col6\" class=\"data row35 col6\" >0.0000</td>\n",
       "    </tr>\n",
       "    <tr>\n",
       "      <th id=\"T_7fae5_level0_row36\" class=\"row_heading level0 row36\" >36</th>\n",
       "      <td id=\"T_7fae5_row36_col0\" class=\"data row36 col0\" >0.9511</td>\n",
       "      <td id=\"T_7fae5_row36_col1\" class=\"data row36 col1\" >0.8726</td>\n",
       "      <td id=\"T_7fae5_row36_col2\" class=\"data row36 col2\" >0.0000</td>\n",
       "      <td id=\"T_7fae5_row36_col3\" class=\"data row36 col3\" >0.0000</td>\n",
       "      <td id=\"T_7fae5_row36_col4\" class=\"data row36 col4\" >0.0000</td>\n",
       "      <td id=\"T_7fae5_row36_col5\" class=\"data row36 col5\" >0.0000</td>\n",
       "      <td id=\"T_7fae5_row36_col6\" class=\"data row36 col6\" >0.0000</td>\n",
       "    </tr>\n",
       "    <tr>\n",
       "      <th id=\"T_7fae5_level0_row37\" class=\"row_heading level0 row37\" >37</th>\n",
       "      <td id=\"T_7fae5_row37_col0\" class=\"data row37 col0\" >0.9523</td>\n",
       "      <td id=\"T_7fae5_row37_col1\" class=\"data row37 col1\" >0.8261</td>\n",
       "      <td id=\"T_7fae5_row37_col2\" class=\"data row37 col2\" >0.0000</td>\n",
       "      <td id=\"T_7fae5_row37_col3\" class=\"data row37 col3\" >0.0000</td>\n",
       "      <td id=\"T_7fae5_row37_col4\" class=\"data row37 col4\" >0.0000</td>\n",
       "      <td id=\"T_7fae5_row37_col5\" class=\"data row37 col5\" >0.0000</td>\n",
       "      <td id=\"T_7fae5_row37_col6\" class=\"data row37 col6\" >0.0000</td>\n",
       "    </tr>\n",
       "    <tr>\n",
       "      <th id=\"T_7fae5_level0_row38\" class=\"row_heading level0 row38\" >38</th>\n",
       "      <td id=\"T_7fae5_row38_col0\" class=\"data row38 col0\" >0.9510</td>\n",
       "      <td id=\"T_7fae5_row38_col1\" class=\"data row38 col1\" >0.8469</td>\n",
       "      <td id=\"T_7fae5_row38_col2\" class=\"data row38 col2\" >0.0000</td>\n",
       "      <td id=\"T_7fae5_row38_col3\" class=\"data row38 col3\" >0.0000</td>\n",
       "      <td id=\"T_7fae5_row38_col4\" class=\"data row38 col4\" >0.0000</td>\n",
       "      <td id=\"T_7fae5_row38_col5\" class=\"data row38 col5\" >0.0000</td>\n",
       "      <td id=\"T_7fae5_row38_col6\" class=\"data row38 col6\" >0.0000</td>\n",
       "    </tr>\n",
       "    <tr>\n",
       "      <th id=\"T_7fae5_level0_row39\" class=\"row_heading level0 row39\" >39</th>\n",
       "      <td id=\"T_7fae5_row39_col0\" class=\"data row39 col0\" >0.9510</td>\n",
       "      <td id=\"T_7fae5_row39_col1\" class=\"data row39 col1\" >0.7902</td>\n",
       "      <td id=\"T_7fae5_row39_col2\" class=\"data row39 col2\" >0.0000</td>\n",
       "      <td id=\"T_7fae5_row39_col3\" class=\"data row39 col3\" >0.0000</td>\n",
       "      <td id=\"T_7fae5_row39_col4\" class=\"data row39 col4\" >0.0000</td>\n",
       "      <td id=\"T_7fae5_row39_col5\" class=\"data row39 col5\" >0.0000</td>\n",
       "      <td id=\"T_7fae5_row39_col6\" class=\"data row39 col6\" >0.0000</td>\n",
       "    </tr>\n",
       "    <tr>\n",
       "      <th id=\"T_7fae5_level0_row40\" class=\"row_heading level0 row40\" >40</th>\n",
       "      <td id=\"T_7fae5_row40_col0\" class=\"data row40 col0\" >0.9511</td>\n",
       "      <td id=\"T_7fae5_row40_col1\" class=\"data row40 col1\" >0.8574</td>\n",
       "      <td id=\"T_7fae5_row40_col2\" class=\"data row40 col2\" >0.0000</td>\n",
       "      <td id=\"T_7fae5_row40_col3\" class=\"data row40 col3\" >0.0000</td>\n",
       "      <td id=\"T_7fae5_row40_col4\" class=\"data row40 col4\" >0.0000</td>\n",
       "      <td id=\"T_7fae5_row40_col5\" class=\"data row40 col5\" >0.0000</td>\n",
       "      <td id=\"T_7fae5_row40_col6\" class=\"data row40 col6\" >0.0000</td>\n",
       "    </tr>\n",
       "    <tr>\n",
       "      <th id=\"T_7fae5_level0_row41\" class=\"row_heading level0 row41\" >41</th>\n",
       "      <td id=\"T_7fae5_row41_col0\" class=\"data row41 col0\" >0.9511</td>\n",
       "      <td id=\"T_7fae5_row41_col1\" class=\"data row41 col1\" >0.8177</td>\n",
       "      <td id=\"T_7fae5_row41_col2\" class=\"data row41 col2\" >0.0000</td>\n",
       "      <td id=\"T_7fae5_row41_col3\" class=\"data row41 col3\" >0.0000</td>\n",
       "      <td id=\"T_7fae5_row41_col4\" class=\"data row41 col4\" >0.0000</td>\n",
       "      <td id=\"T_7fae5_row41_col5\" class=\"data row41 col5\" >0.0000</td>\n",
       "      <td id=\"T_7fae5_row41_col6\" class=\"data row41 col6\" >0.0000</td>\n",
       "    </tr>\n",
       "    <tr>\n",
       "      <th id=\"T_7fae5_level0_row42\" class=\"row_heading level0 row42\" >42</th>\n",
       "      <td id=\"T_7fae5_row42_col0\" class=\"data row42 col0\" >0.9523</td>\n",
       "      <td id=\"T_7fae5_row42_col1\" class=\"data row42 col1\" >0.8082</td>\n",
       "      <td id=\"T_7fae5_row42_col2\" class=\"data row42 col2\" >0.0000</td>\n",
       "      <td id=\"T_7fae5_row42_col3\" class=\"data row42 col3\" >0.0000</td>\n",
       "      <td id=\"T_7fae5_row42_col4\" class=\"data row42 col4\" >0.0000</td>\n",
       "      <td id=\"T_7fae5_row42_col5\" class=\"data row42 col5\" >0.0000</td>\n",
       "      <td id=\"T_7fae5_row42_col6\" class=\"data row42 col6\" >0.0000</td>\n",
       "    </tr>\n",
       "    <tr>\n",
       "      <th id=\"T_7fae5_level0_row43\" class=\"row_heading level0 row43\" >43</th>\n",
       "      <td id=\"T_7fae5_row43_col0\" class=\"data row43 col0\" >0.9510</td>\n",
       "      <td id=\"T_7fae5_row43_col1\" class=\"data row43 col1\" >0.8686</td>\n",
       "      <td id=\"T_7fae5_row43_col2\" class=\"data row43 col2\" >0.0000</td>\n",
       "      <td id=\"T_7fae5_row43_col3\" class=\"data row43 col3\" >0.0000</td>\n",
       "      <td id=\"T_7fae5_row43_col4\" class=\"data row43 col4\" >0.0000</td>\n",
       "      <td id=\"T_7fae5_row43_col5\" class=\"data row43 col5\" >0.0000</td>\n",
       "      <td id=\"T_7fae5_row43_col6\" class=\"data row43 col6\" >0.0000</td>\n",
       "    </tr>\n",
       "    <tr>\n",
       "      <th id=\"T_7fae5_level0_row44\" class=\"row_heading level0 row44\" >44</th>\n",
       "      <td id=\"T_7fae5_row44_col0\" class=\"data row44 col0\" >0.9510</td>\n",
       "      <td id=\"T_7fae5_row44_col1\" class=\"data row44 col1\" >0.8113</td>\n",
       "      <td id=\"T_7fae5_row44_col2\" class=\"data row44 col2\" >0.0000</td>\n",
       "      <td id=\"T_7fae5_row44_col3\" class=\"data row44 col3\" >0.0000</td>\n",
       "      <td id=\"T_7fae5_row44_col4\" class=\"data row44 col4\" >0.0000</td>\n",
       "      <td id=\"T_7fae5_row44_col5\" class=\"data row44 col5\" >0.0000</td>\n",
       "      <td id=\"T_7fae5_row44_col6\" class=\"data row44 col6\" >0.0000</td>\n",
       "    </tr>\n",
       "    <tr>\n",
       "      <th id=\"T_7fae5_level0_row45\" class=\"row_heading level0 row45\" >45</th>\n",
       "      <td id=\"T_7fae5_row45_col0\" class=\"data row45 col0\" >0.9511</td>\n",
       "      <td id=\"T_7fae5_row45_col1\" class=\"data row45 col1\" >0.8279</td>\n",
       "      <td id=\"T_7fae5_row45_col2\" class=\"data row45 col2\" >0.0000</td>\n",
       "      <td id=\"T_7fae5_row45_col3\" class=\"data row45 col3\" >0.0000</td>\n",
       "      <td id=\"T_7fae5_row45_col4\" class=\"data row45 col4\" >0.0000</td>\n",
       "      <td id=\"T_7fae5_row45_col5\" class=\"data row45 col5\" >0.0000</td>\n",
       "      <td id=\"T_7fae5_row45_col6\" class=\"data row45 col6\" >0.0000</td>\n",
       "    </tr>\n",
       "    <tr>\n",
       "      <th id=\"T_7fae5_level0_row46\" class=\"row_heading level0 row46\" >46</th>\n",
       "      <td id=\"T_7fae5_row46_col0\" class=\"data row46 col0\" >0.9511</td>\n",
       "      <td id=\"T_7fae5_row46_col1\" class=\"data row46 col1\" >0.8642</td>\n",
       "      <td id=\"T_7fae5_row46_col2\" class=\"data row46 col2\" >0.0000</td>\n",
       "      <td id=\"T_7fae5_row46_col3\" class=\"data row46 col3\" >0.0000</td>\n",
       "      <td id=\"T_7fae5_row46_col4\" class=\"data row46 col4\" >0.0000</td>\n",
       "      <td id=\"T_7fae5_row46_col5\" class=\"data row46 col5\" >0.0000</td>\n",
       "      <td id=\"T_7fae5_row46_col6\" class=\"data row46 col6\" >0.0000</td>\n",
       "    </tr>\n",
       "    <tr>\n",
       "      <th id=\"T_7fae5_level0_row47\" class=\"row_heading level0 row47\" >47</th>\n",
       "      <td id=\"T_7fae5_row47_col0\" class=\"data row47 col0\" >0.9523</td>\n",
       "      <td id=\"T_7fae5_row47_col1\" class=\"data row47 col1\" >0.8402</td>\n",
       "      <td id=\"T_7fae5_row47_col2\" class=\"data row47 col2\" >0.0000</td>\n",
       "      <td id=\"T_7fae5_row47_col3\" class=\"data row47 col3\" >0.0000</td>\n",
       "      <td id=\"T_7fae5_row47_col4\" class=\"data row47 col4\" >0.0000</td>\n",
       "      <td id=\"T_7fae5_row47_col5\" class=\"data row47 col5\" >0.0000</td>\n",
       "      <td id=\"T_7fae5_row47_col6\" class=\"data row47 col6\" >0.0000</td>\n",
       "    </tr>\n",
       "    <tr>\n",
       "      <th id=\"T_7fae5_level0_row48\" class=\"row_heading level0 row48\" >48</th>\n",
       "      <td id=\"T_7fae5_row48_col0\" class=\"data row48 col0\" >0.9510</td>\n",
       "      <td id=\"T_7fae5_row48_col1\" class=\"data row48 col1\" >0.8294</td>\n",
       "      <td id=\"T_7fae5_row48_col2\" class=\"data row48 col2\" >0.0000</td>\n",
       "      <td id=\"T_7fae5_row48_col3\" class=\"data row48 col3\" >0.0000</td>\n",
       "      <td id=\"T_7fae5_row48_col4\" class=\"data row48 col4\" >0.0000</td>\n",
       "      <td id=\"T_7fae5_row48_col5\" class=\"data row48 col5\" >0.0000</td>\n",
       "      <td id=\"T_7fae5_row48_col6\" class=\"data row48 col6\" >0.0000</td>\n",
       "    </tr>\n",
       "    <tr>\n",
       "      <th id=\"T_7fae5_level0_row49\" class=\"row_heading level0 row49\" >49</th>\n",
       "      <td id=\"T_7fae5_row49_col0\" class=\"data row49 col0\" >0.9510</td>\n",
       "      <td id=\"T_7fae5_row49_col1\" class=\"data row49 col1\" >0.8023</td>\n",
       "      <td id=\"T_7fae5_row49_col2\" class=\"data row49 col2\" >0.0000</td>\n",
       "      <td id=\"T_7fae5_row49_col3\" class=\"data row49 col3\" >0.0000</td>\n",
       "      <td id=\"T_7fae5_row49_col4\" class=\"data row49 col4\" >0.0000</td>\n",
       "      <td id=\"T_7fae5_row49_col5\" class=\"data row49 col5\" >0.0000</td>\n",
       "      <td id=\"T_7fae5_row49_col6\" class=\"data row49 col6\" >0.0000</td>\n",
       "    </tr>\n",
       "    <tr>\n",
       "      <th id=\"T_7fae5_level0_row50\" class=\"row_heading level0 row50\" >Mean</th>\n",
       "      <td id=\"T_7fae5_row50_col0\" class=\"data row50 col0\" >0.9514</td>\n",
       "      <td id=\"T_7fae5_row50_col1\" class=\"data row50 col1\" >0.8324</td>\n",
       "      <td id=\"T_7fae5_row50_col2\" class=\"data row50 col2\" >0.0015</td>\n",
       "      <td id=\"T_7fae5_row50_col3\" class=\"data row50 col3\" >0.0600</td>\n",
       "      <td id=\"T_7fae5_row50_col4\" class=\"data row50 col4\" >0.0029</td>\n",
       "      <td id=\"T_7fae5_row50_col5\" class=\"data row50 col5\" >0.0028</td>\n",
       "      <td id=\"T_7fae5_row50_col6\" class=\"data row50 col6\" >0.0093</td>\n",
       "    </tr>\n",
       "    <tr>\n",
       "      <th id=\"T_7fae5_level0_row51\" class=\"row_heading level0 row51\" >Std</th>\n",
       "      <td id=\"T_7fae5_row51_col0\" class=\"data row51 col0\" >0.0005</td>\n",
       "      <td id=\"T_7fae5_row51_col1\" class=\"data row51 col1\" >0.0228</td>\n",
       "      <td id=\"T_7fae5_row51_col2\" class=\"data row51 col2\" >0.0059</td>\n",
       "      <td id=\"T_7fae5_row51_col3\" class=\"data row51 col3\" >0.2375</td>\n",
       "      <td id=\"T_7fae5_row51_col4\" class=\"data row51 col4\" >0.0116</td>\n",
       "      <td id=\"T_7fae5_row51_col5\" class=\"data row51 col5\" >0.0110</td>\n",
       "      <td id=\"T_7fae5_row51_col6\" class=\"data row51 col6\" >0.0366</td>\n",
       "    </tr>\n",
       "  </tbody>\n",
       "</table>\n"
      ],
      "text/plain": [
       "<pandas.io.formats.style.Styler at 0x1c6173103d0>"
      ]
     },
     "metadata": {},
     "output_type": "display_data"
    },
    {
     "data": {
      "text/html": [],
      "text/plain": [
       "<IPython.core.display.HTML object>"
      ]
     },
     "metadata": {},
     "output_type": "display_data"
    },
    {
     "name": "stdout",
     "output_type": "stream",
     "text": [
      "Fitting 50 folds for each of 10 candidates, totalling 500 fits\n"
     ]
    }
   ],
   "source": [
    "# Create your CV splitter\n",
    "cv = RepeatedStratifiedKFold(n_splits=5, n_repeats=10, random_state=123)\n",
    "\n",
    "# Setup with custom CV, hold-out test is still created automatically\n",
    "s = setup(\n",
    "    data=final_data,\n",
    "    target=\"stroke\",\n",
    "    session_id=123,\n",
    "    fold_strategy=cv,\n",
    "    train_size=0.8,  # 80% train-val (with repeated CV), 20% holdout test\n",
    "    preprocess=False)\n",
    "\n",
    "# Compare models on repeated CV\n",
    "best_model = compare_models(sort=\"AUC\")\n",
    "\n",
    "# Tune using the same repeated CV\n",
    "tuned_model = tune_model(best_model, optimize=\"AUC\")\n",
    "\n",
    "# Lock model and retrain on all train+val\n",
    "final_model = finalize_model(tuned_model)"
   ]
  },
  {
   "cell_type": "code",
   "execution_count": 5,
   "id": "1b0d905c",
   "metadata": {},
   "outputs": [
    {
     "data": {
      "text/html": [
       "<style type=\"text/css\">\n",
       "</style>\n",
       "<table id=\"T_f3b62\">\n",
       "  <thead>\n",
       "    <tr>\n",
       "      <th class=\"blank level0\" >&nbsp;</th>\n",
       "      <th id=\"T_f3b62_level0_col0\" class=\"col_heading level0 col0\" >Model</th>\n",
       "      <th id=\"T_f3b62_level0_col1\" class=\"col_heading level0 col1\" >Accuracy</th>\n",
       "      <th id=\"T_f3b62_level0_col2\" class=\"col_heading level0 col2\" >AUC</th>\n",
       "      <th id=\"T_f3b62_level0_col3\" class=\"col_heading level0 col3\" >Recall</th>\n",
       "      <th id=\"T_f3b62_level0_col4\" class=\"col_heading level0 col4\" >Prec.</th>\n",
       "      <th id=\"T_f3b62_level0_col5\" class=\"col_heading level0 col5\" >F1</th>\n",
       "      <th id=\"T_f3b62_level0_col6\" class=\"col_heading level0 col6\" >Kappa</th>\n",
       "      <th id=\"T_f3b62_level0_col7\" class=\"col_heading level0 col7\" >MCC</th>\n",
       "    </tr>\n",
       "  </thead>\n",
       "  <tbody>\n",
       "    <tr>\n",
       "      <th id=\"T_f3b62_level0_row0\" class=\"row_heading level0 row0\" >0</th>\n",
       "      <td id=\"T_f3b62_row0_col0\" class=\"data row0 col0\" >Logistic Regression</td>\n",
       "      <td id=\"T_f3b62_row0_col1\" class=\"data row0 col1\" >0.9511</td>\n",
       "      <td id=\"T_f3b62_row0_col2\" class=\"data row0 col2\" >0.8767</td>\n",
       "      <td id=\"T_f3b62_row0_col3\" class=\"data row0 col3\" >0.0000</td>\n",
       "      <td id=\"T_f3b62_row0_col4\" class=\"data row0 col4\" >0.0000</td>\n",
       "      <td id=\"T_f3b62_row0_col5\" class=\"data row0 col5\" >0.0000</td>\n",
       "      <td id=\"T_f3b62_row0_col6\" class=\"data row0 col6\" >0.0000</td>\n",
       "      <td id=\"T_f3b62_row0_col7\" class=\"data row0 col7\" >0.0000</td>\n",
       "    </tr>\n",
       "  </tbody>\n",
       "</table>\n"
      ],
      "text/plain": [
       "<pandas.io.formats.style.Styler at 0x1c616f8ab90>"
      ]
     },
     "metadata": {},
     "output_type": "display_data"
    },
    {
     "name": "stdout",
     "output_type": "stream",
     "text": [
      "Best threshold: 0.14, F1: 0.347\n"
     ]
    }
   ],
   "source": [
    "test_results = predict_model(final_model, raw_score=True)  # Holdout predictions\n",
    "\n",
    "y_true = test_results['stroke']\n",
    "y_prob = test_results['prediction_score_1']\n",
    "\n",
    "thresholds = np.arange(0.0, 1.01, 0.01)\n",
    "f1_scores = []\n",
    "\n",
    "for t in thresholds:\n",
    "    y_pred = (y_prob >= t).astype(int)\n",
    "    f1_scores.append(f1_score(y_true, y_pred))\n",
    "\n",
    "best_threshold = thresholds[np.argmax(f1_scores)]\n",
    "best_f1 = max(f1_scores)\n",
    "\n",
    "print(f\"Best threshold: {best_threshold:.2f}, F1: {best_f1:.3f}\")"
   ]
  },
  {
   "cell_type": "code",
   "execution_count": null,
   "id": "96fa3269",
   "metadata": {},
   "outputs": [
    {
     "data": {
      "image/png": "[encoded data removed]",
      "text/plain": [
       "<Figure size 800x550 with 1 Axes>"
      ]
     },
     "metadata": {},
     "output_type": "display_data"
    }
   ],
   "source": [
    "\n",
    "\n",
    "\n",
    "import matplotlib.pyplot as plt\n",
    "plt.hist(y_prob[y_true == 0], bins=20, alpha=0.5, label='No Stroke', color='blue', density=True)\n",
    "plt.hist(y_prob[y_true == 1], bins=20, alpha=0.5, label='Stroke', color='red', density=True)\n",
    "plt.axvline(best_threshold, color='green', linestyle='dashed', linewidth=1)\n",
    "plt.title('Histogram of Prediction Scores')\n",
    "plt.xlabel('Prediction Score')\n",
    "plt.ylabel('Density')\n",
    "plt.legend()\n",
    "plt.show()"
   ]
  },
  {
   "cell_type": "code",
   "execution_count": 40,
   "id": "543dcf1d",
   "metadata": {},
   "outputs": [
    {
     "data": {
      "application/vnd.plotly.v1+json": {
       "config": {
        "plotlyServerURL": "https://plot.ly"
       },
       "data": [
        {
         "histnorm": "probability density",
         "marker": {
          "color": "blue"
         },
         "name": "No Stroke",
         "opacity": 0.5,
         "type": "histogram",
         "x": {
          "bdata": "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",
          "dtype": "f8"
         },
         "xbins": {
          "end": 1,
          "size": 0.03333333333333333,
          "start": 0
         }
        },
        {
         "histnorm": "probability density",
         "marker": {
          "color": "red"
         },
         "name": "Stroke",
         "opacity": 0.5,
         "type": "histogram",
         "x": {
          "bdata": "b4EExY8xtz/ChqdXyjLEP5m7lpAPesY/PnlYqDXNwz/Mf0i/fR2oP13cRgN4C8Q/dk8eFmpNsz8bL90kBoGVP9QrZRniWKc/eVioNc070j+qYFRSJ6DJP+SDns2qz6U/nDOitDf4sj8yVTAqqRPQP5p3nKIjubw/8fRKWYY4zj9nRGlv8IW5P0aU9gZfmMQ/jgbwFkhQ1D9eS8gHPZvNPyv2l92Th80/zczMzMzMxD/tnjws1JrGP6wcWmQ7388/TYQNT6+UxT9L6gQ0ETbMP/aX3ZOHhcI/m1Wfq63Ynz+lvcEXJlPRPwKaCBueXrk/0gDeAgmK0z+z6nO1Ffu7Pzm0yHa+n7o/9dvXgXNGpD8GEhQ/xtzFP2PuWkI+6Mk/vjCZKhiVxD9N845TdCSnP3sUrkfheqQ/CD2bVZ+rvT+LbOf7qfHCP/Xb14FzRoQ/ke18PzVeqj+BlUOLbOfLP6jGSzeJQcA/yjLEsS5uyz/kg57Nqs+1P9CzWfW52sI/nDOitDf42j+u2F92Tx7OPw==",
          "dtype": "f8"
         },
         "xbins": {
          "end": 1,
          "size": 0.03333333333333333,
          "start": 0
         }
        }
       ],
       "layout": {
        "annotations": [
         {
          "showarrow": false,
          "text": "Best Threshold",
          "x": 0.14,
          "xanchor": "left",
          "xref": "x",
          "y": 1,
          "yanchor": "top",
          "yref": "y domain"
         }
        ],
        "barmode": "overlay",
        "shapes": [
         {
          "line": {
           "color": "green",
           "dash": "dash",
           "width": 2
          },
          "type": "line",
          "x0": 0.14,
          "x1": 0.14,
          "xref": "x",
          "y0": 0,
          "y1": 1,
          "yref": "y domain"
         }
        ],
        "template": {
         "data": {
          "bar": [
           {
            "error_x": {
             "color": "#2a3f5f"
            },
            "error_y": {
             "color": "#2a3f5f"
            },
            "marker": {
             "line": {
              "color": "#E5ECF6",
              "width": 0.5
             },
             "pattern": {
              "fillmode": "overlay",
              "size": 10,
              "solidity": 0.2
             }
            },
            "type": "bar"
           }
          ],
          "barpolar": [
           {
            "marker": {
             "line": {
              "color": "#E5ECF6",
              "width": 0.5
             },
             "pattern": {
              "fillmode": "overlay",
              "size": 10,
              "solidity": 0.2
             }
            },
            "type": "barpolar"
           }
          ],
          "carpet": [
           {
            "aaxis": {
             "endlinecolor": "#2a3f5f",
             "gridcolor": "white",
             "linecolor": "white",
             "minorgridcolor": "white",
             "startlinecolor": "#2a3f5f"
            },
            "baxis": {
             "endlinecolor": "#2a3f5f",
             "gridcolor": "white",
             "linecolor": "white",
             "minorgridcolor": "white",
             "startlinecolor": "#2a3f5f"
            },
            "type": "carpet"
           }
          ],
          "choropleth": [
           {
            "colorbar": {
             "outlinewidth": 0,
             "ticks": ""
            },
            "type": "choropleth"
           }
          ],
          "contour": [
           {
            "colorbar": {
             "outlinewidth": 0,
             "ticks": ""
            },
            "colorscale": [
             [
              0,
              "#0d0887"
             ],
             [
              0.1111111111111111,
              "#46039f"
             ],
             [
              0.2222222222222222,
              "#7201a8"
             ],
             [
              0.3333333333333333,
              "#9c179e"
             ],
             [
              0.4444444444444444,
              "#bd3786"
             ],
             [
              0.5555555555555556,
              "#d8576b"
             ],
             [
              0.6666666666666666,
              "#ed7953"
             ],
             [
              0.7777777777777778,
              "#fb9f3a"
             ],
             [
              0.8888888888888888,
              "#fdca26"
             ],
             [
              1,
              "#f0f921"
             ]
            ],
            "type": "contour"
           }
          ],
          "contourcarpet": [
           {
            "colorbar": {
             "outlinewidth": 0,
             "ticks": ""
            },
            "type": "contourcarpet"
           }
          ],
          "heatmap": [
           {
            "colorbar": {
             "outlinewidth": 0,
             "ticks": ""
            },
            "colorscale": [
             [
              0,
              "#0d0887"
             ],
             [
              0.1111111111111111,
              "#46039f"
             ],
             [
              0.2222222222222222,
              "#7201a8"
             ],
             [
              0.3333333333333333,
              "#9c179e"
             ],
             [
              0.4444444444444444,
              "#bd3786"
             ],
             [
              0.5555555555555556,
              "#d8576b"
             ],
             [
              0.6666666666666666,
              "#ed7953"
             ],
             [
              0.7777777777777778,
              "#fb9f3a"
             ],
             [
              0.8888888888888888,
              "#fdca26"
             ],
             [
              1,
              "#f0f921"
             ]
            ],
            "type": "heatmap"
           }
          ],
          "histogram": [
           {
            "marker": {
             "pattern": {
              "fillmode": "overlay",
              "size": 10,
              "solidity": 0.2
             }
            },
            "type": "histogram"
           }
          ],
          "histogram2d": [
           {
            "colorbar": {
             "outlinewidth": 0,
             "ticks": ""
            },
            "colorscale": [
             [
              0,
              "#0d0887"
             ],
             [
              0.1111111111111111,
              "#46039f"
             ],
             [
              0.2222222222222222,
              "#7201a8"
             ],
             [
              0.3333333333333333,
              "#9c179e"
             ],
             [
              0.4444444444444444,
              "#bd3786"
             ],
             [
              0.5555555555555556,
              "#d8576b"
             ],
             [
              0.6666666666666666,
              "#ed7953"
             ],
             [
              0.7777777777777778,
              "#fb9f3a"
             ],
             [
              0.8888888888888888,
              "#fdca26"
             ],
             [
              1,
              "#f0f921"
             ]
            ],
            "type": "histogram2d"
           }
          ],
          "histogram2dcontour": [
           {
            "colorbar": {
             "outlinewidth": 0,
             "ticks": ""
            },
            "colorscale": [
             [
              0,
              "#0d0887"
             ],
             [
              0.1111111111111111,
              "#46039f"
             ],
             [
              0.2222222222222222,
              "#7201a8"
             ],
             [
              0.3333333333333333,
              "#9c179e"
             ],
             [
              0.4444444444444444,
              "#bd3786"
             ],
             [
              0.5555555555555556,
              "#d8576b"
             ],
             [
              0.6666666666666666,
              "#ed7953"
             ],
             [
              0.7777777777777778,
              "#fb9f3a"
             ],
             [
              0.8888888888888888,
              "#fdca26"
             ],
             [
              1,
              "#f0f921"
             ]
            ],
            "type": "histogram2dcontour"
           }
          ],
          "mesh3d": [
           {
            "colorbar": {
             "outlinewidth": 0,
             "ticks": ""
            },
            "type": "mesh3d"
           }
          ],
          "parcoords": [
           {
            "line": {
             "colorbar": {
              "outlinewidth": 0,
              "ticks": ""
             }
            },
            "type": "parcoords"
           }
          ],
          "pie": [
           {
            "automargin": true,
            "type": "pie"
           }
          ],
          "scatter": [
           {
            "fillpattern": {
             "fillmode": "overlay",
             "size": 10,
             "solidity": 0.2
            },
            "type": "scatter"
           }
          ],
          "scatter3d": [
           {
            "line": {
             "colorbar": {
              "outlinewidth": 0,
              "ticks": ""
             }
            },
            "marker": {
             "colorbar": {
              "outlinewidth": 0,
              "ticks": ""
             }
            },
            "type": "scatter3d"
           }
          ],
          "scattercarpet": [
           {
            "marker": {
             "colorbar": {
              "outlinewidth": 0,
              "ticks": ""
             }
            },
            "type": "scattercarpet"
           }
          ],
          "scattergeo": [
           {
            "marker": {
             "colorbar": {
              "outlinewidth": 0,
              "ticks": ""
             }
            },
            "type": "scattergeo"
           }
          ],
          "scattergl": [
           {
            "marker": {
             "colorbar": {
              "outlinewidth": 0,
              "ticks": ""
             }
            },
            "type": "scattergl"
           }
          ],
          "scattermap": [
           {
            "marker": {
             "colorbar": {
              "outlinewidth": 0,
              "ticks": ""
             }
            },
            "type": "scattermap"
           }
          ],
          "scattermapbox": [
           {
            "marker": {
             "colorbar": {
              "outlinewidth": 0,
              "ticks": ""
             }
            },
            "type": "scattermapbox"
           }
          ],
          "scatterpolar": [
           {
            "marker": {
             "colorbar": {
              "outlinewidth": 0,
              "ticks": ""
             }
            },
            "type": "scatterpolar"
           }
          ],
          "scatterpolargl": [
           {
            "marker": {
             "colorbar": {
              "outlinewidth": 0,
              "ticks": ""
             }
            },
            "type": "scatterpolargl"
           }
          ],
          "scatterternary": [
           {
            "marker": {
             "colorbar": {
              "outlinewidth": 0,
              "ticks": ""
             }
            },
            "type": "scatterternary"
           }
          ],
          "surface": [
           {
            "colorbar": {
             "outlinewidth": 0,
             "ticks": ""
            },
            "colorscale": [
             [
              0,
              "#0d0887"
             ],
             [
              0.1111111111111111,
              "#46039f"
             ],
             [
              0.2222222222222222,
              "#7201a8"
             ],
             [
              0.3333333333333333,
              "#9c179e"
             ],
             [
              0.4444444444444444,
              "#bd3786"
             ],
             [
              0.5555555555555556,
              "#d8576b"
             ],
             [
              0.6666666666666666,
              "#ed7953"
             ],
             [
              0.7777777777777778,
              "#fb9f3a"
             ],
             [
              0.8888888888888888,
              "#fdca26"
             ],
             [
              1,
              "#f0f921"
             ]
            ],
            "type": "surface"
           }
          ],
          "table": [
           {
            "cells": {
             "fill": {
              "color": "#EBF0F8"
             },
             "line": {
              "color": "white"
             }
            },
            "header": {
             "fill": {
              "color": "#C8D4E3"
             },
             "line": {
              "color": "white"
             }
            },
            "type": "table"
           }
          ]
         },
         "layout": {
          "annotationdefaults": {
           "arrowcolor": "#2a3f5f",
           "arrowhead": 0,
           "arrowwidth": 1
          },
          "autotypenumbers": "strict",
          "coloraxis": {
           "colorbar": {
            "outlinewidth": 0,
            "ticks": ""
           }
          },
          "colorscale": {
           "diverging": [
            [
             0,
             "#8e0152"
            ],
            [
             0.1,
             "#c51b7d"
            ],
            [
             0.2,
             "#de77ae"
            ],
            [
             0.3,
             "#f1b6da"
            ],
            [
             0.4,
             "#fde0ef"
            ],
            [
             0.5,
             "#f7f7f7"
            ],
            [
             0.6,
             "#e6f5d0"
            ],
            [
             0.7,
             "#b8e186"
            ],
            [
             0.8,
             "#7fbc41"
            ],
            [
             0.9,
             "#4d9221"
            ],
            [
             1,
             "#276419"
            ]
           ],
           "sequential": [
            [
             0,
             "#0d0887"
            ],
            [
             0.1111111111111111,
             "#46039f"
            ],
            [
             0.2222222222222222,
             "#7201a8"
            ],
            [
             0.3333333333333333,
             "#9c179e"
            ],
            [
             0.4444444444444444,
             "#bd3786"
            ],
            [
             0.5555555555555556,
             "#d8576b"
            ],
            [
             0.6666666666666666,
             "#ed7953"
            ],
            [
             0.7777777777777778,
             "#fb9f3a"
            ],
            [
             0.8888888888888888,
             "#fdca26"
            ],
            [
             1,
             "#f0f921"
            ]
           ],
           "sequentialminus": [
            [
             0,
             "#0d0887"
            ],
            [
             0.1111111111111111,
             "#46039f"
            ],
            [
             0.2222222222222222,
             "#7201a8"
            ],
            [
             0.3333333333333333,
             "#9c179e"
            ],
            [
             0.4444444444444444,
             "#bd3786"
            ],
            [
             0.5555555555555556,
             "#d8576b"
            ],
            [
             0.6666666666666666,
             "#ed7953"
            ],
            [
             0.7777777777777778,
             "#fb9f3a"
            ],
            [
             0.8888888888888888,
             "#fdca26"
            ],
            [
             1,
             "#f0f921"
            ]
           ]
          },
          "colorway": [
           "#636efa",
           "#EF553B",
           "#00cc96",
           "#ab63fa",
           "#FFA15A",
           "#19d3f3",
           "#FF6692",
           "#B6E880",
           "#FF97FF",
           "#FECB52"
          ],
          "font": {
           "color": "#2a3f5f"
          },
          "geo": {
           "bgcolor": "white",
           "lakecolor": "white",
           "landcolor": "#E5ECF6",
           "showlakes": true,
           "showland": true,
           "subunitcolor": "white"
          },
          "hoverlabel": {
           "align": "left"
          },
          "hovermode": "closest",
          "mapbox": {
           "style": "light"
          },
          "paper_bgcolor": "white",
          "plot_bgcolor": "#E5ECF6",
          "polar": {
           "angularaxis": {
            "gridcolor": "white",
            "linecolor": "white",
            "ticks": ""
           },
           "bgcolor": "#E5ECF6",
           "radialaxis": {
            "gridcolor": "white",
            "linecolor": "white",
            "ticks": ""
           }
          },
          "scene": {
           "xaxis": {
            "backgroundcolor": "#E5ECF6",
            "gridcolor": "white",
            "gridwidth": 2,
            "linecolor": "white",
            "showbackground": true,
            "ticks": "",
            "zerolinecolor": "white"
           },
           "yaxis": {
            "backgroundcolor": "#E5ECF6",
            "gridcolor": "white",
            "gridwidth": 2,
            "linecolor": "white",
            "showbackground": true,
            "ticks": "",
            "zerolinecolor": "white"
           },
           "zaxis": {
            "backgroundcolor": "#E5ECF6",
            "gridcolor": "white",
            "gridwidth": 2,
            "linecolor": "white",
            "showbackground": true,
            "ticks": "",
            "zerolinecolor": "white"
           }
          },
          "shapedefaults": {
           "line": {
            "color": "#2a3f5f"
           }
          },
          "ternary": {
           "aaxis": {
            "gridcolor": "white",
            "linecolor": "white",
            "ticks": ""
           },
           "baxis": {
            "gridcolor": "white",
            "linecolor": "white",
            "ticks": ""
           },
           "bgcolor": "#E5ECF6",
           "caxis": {
            "gridcolor": "white",
            "linecolor": "white",
            "ticks": ""
           }
          },
          "title": {
           "x": 0.05
          },
          "xaxis": {
           "automargin": true,
           "gridcolor": "white",
           "linecolor": "white",
           "ticks": "",
           "title": {
            "standoff": 15
           },
           "zerolinecolor": "white",
           "zerolinewidth": 2
          },
          "yaxis": {
           "automargin": true,
           "gridcolor": "white",
           "linecolor": "white",
           "ticks": "",
           "title": {
            "standoff": 15
           },
           "zerolinecolor": "white",
           "zerolinewidth": 2
          }
         }
        },
        "title": {
         "text": "Histogram of Prediction Scores in the Test Set"
        },
        "xaxis": {
         "title": {
          "text": "Prediction Score"
         }
        },
        "yaxis": {
         "title": {
          "text": "Density"
         }
        }
       }
      }
     },
     "metadata": {},
     "output_type": "display_data"
    }
   ],
   "source": [
    "# plot the histogram of the prediction score for both classes in plotly\n",
    "\n",
    "# Define common bin edges\n",
    "bins = np.linspace(0, 1, 31) # 20 bins between 0 and 1\n",
    "\n",
    "fig = go.Figure()\n",
    "fig.add_trace(go.Histogram(\n",
    "    x=y_prob[y_true == 0],\n",
    "    xbins=dict(start=bins[0], end=bins[-1], size=bins[1]-bins[0]),\n",
    "    name='No Stroke',\n",
    "    opacity=0.5,\n",
    "    marker_color='blue',\n",
    "    histnorm='probability density'\n",
    "))\n",
    "fig.add_trace(go.Histogram(\n",
    "    x=y_prob[y_true == 1],\n",
    "    xbins=dict(start=bins[0], end=bins[-1], size=bins[1]-bins[0]),\n",
    "    name='Stroke',\n",
    "    opacity=0.5,\n",
    "    marker_color='red',\n",
    "    histnorm='probability density'\n",
    "))\n",
    "fig.add_vline(x=best_threshold, line_width=2, line_dash=\"dash\", line_color=\"green\", annotation_text=\"Best Threshold\", annotation_position=\"top right\")\n",
    "fig.update_layout(\n",
    "    title='Histogram of Prediction Scores in the Test Set',\n",
    "    xaxis_title='Prediction Score',\n",
    "    yaxis_title='Density',\n",
    "    barmode='overlay'  # <--- This overlays the bars\n",
    ")\n",
    "fig.show()\n",
    "\n",
    "# Save to JSON\n",
    "with open(\"../content/score_dist.json\", \"w\") as f:\n",
    "    f.write(fig.to_json())"
   ]
  },
  {
   "cell_type": "code",
   "execution_count": 7,
   "id": "b529446f",
   "metadata": {},
   "outputs": [
    {
     "data": {
      "text/html": [],
      "text/plain": [
       "<IPython.core.display.HTML object>"
      ]
     },
     "metadata": {},
     "output_type": "display_data"
    }
   ],
   "source": [
    "# Get predictions (including probabilities) on the train set\n",
    "train_predictions = predict_model(tuned_model, data=get_config(\"X_train\"), raw_score=True)\n",
    "y_prob_train = train_predictions['prediction_score_1']\n",
    "y_train = get_config(\"y_train\")"
   ]
  },
  {
   "cell_type": "code",
   "execution_count": 32,
   "id": "0457c68b",
   "metadata": {},
   "outputs": [
    {
     "name": "stdout",
     "output_type": "stream",
     "text": [
      "Stroke rates per quartile (0=lowest risk, 3=highest risk):\n",
      "[0.001953125, 0.008771929824561403, 0.03842364532019704, 0.14579256360078277]\n",
      "Quartile limits:\n",
      "IntervalIndex([(-0.00030000000000000003, 0.0053], (0.0053, 0.0205], (0.0205, 0.0633], (0.0633, 0.485]], dtype='interval[float64, right]')\n"
     ]
    }
   ],
   "source": [
    "# divide the predictions into four quartiles\n",
    "quartiles = pd.qcut(y_prob_train, 4, labels=False)\n",
    "# calculate the actual stroke rate in each quartile\n",
    "stroke_rates = [y_train[quartiles == i].mean() for i in range(4)]\n",
    "# calculate the limits of each quartile\n",
    "quartile_limits = pd.qcut(y_prob_train, 4).unique().categories\n",
    "# print stroke rates per quartile\n",
    "print(\"Stroke rates per quartile (0=lowest risk, 3=highest risk):\")\n",
    "print(stroke_rates)\n",
    "print(\"Quartile limits:\")\n",
    "print(quartile_limits)\n"
   ]
  },
  {
   "cell_type": "code",
   "execution_count": 33,
   "id": "ab217c44",
   "metadata": {},
   "outputs": [
    {
     "data": {
      "text/html": [
       "<style type=\"text/css\">\n",
       "</style>\n",
       "<table id=\"T_5fa2c\">\n",
       "  <thead>\n",
       "    <tr>\n",
       "      <th class=\"blank level0\" >&nbsp;</th>\n",
       "      <th id=\"T_5fa2c_level0_col0\" class=\"col_heading level0 col0\" >Model</th>\n",
       "      <th id=\"T_5fa2c_level0_col1\" class=\"col_heading level0 col1\" >Accuracy</th>\n",
       "      <th id=\"T_5fa2c_level0_col2\" class=\"col_heading level0 col2\" >AUC</th>\n",
       "      <th id=\"T_5fa2c_level0_col3\" class=\"col_heading level0 col3\" >Recall</th>\n",
       "      <th id=\"T_5fa2c_level0_col4\" class=\"col_heading level0 col4\" >Prec.</th>\n",
       "      <th id=\"T_5fa2c_level0_col5\" class=\"col_heading level0 col5\" >F1</th>\n",
       "      <th id=\"T_5fa2c_level0_col6\" class=\"col_heading level0 col6\" >Kappa</th>\n",
       "      <th id=\"T_5fa2c_level0_col7\" class=\"col_heading level0 col7\" >MCC</th>\n",
       "    </tr>\n",
       "  </thead>\n",
       "  <tbody>\n",
       "    <tr>\n",
       "      <th id=\"T_5fa2c_level0_row0\" class=\"row_heading level0 row0\" >0</th>\n",
       "      <td id=\"T_5fa2c_row0_col0\" class=\"data row0 col0\" >Logistic Regression</td>\n",
       "      <td id=\"T_5fa2c_row0_col1\" class=\"data row0 col1\" >0.9511</td>\n",
       "      <td id=\"T_5fa2c_row0_col2\" class=\"data row0 col2\" >0.8767</td>\n",
       "      <td id=\"T_5fa2c_row0_col3\" class=\"data row0 col3\" >0.0000</td>\n",
       "      <td id=\"T_5fa2c_row0_col4\" class=\"data row0 col4\" >0.0000</td>\n",
       "      <td id=\"T_5fa2c_row0_col5\" class=\"data row0 col5\" >0.0000</td>\n",
       "      <td id=\"T_5fa2c_row0_col6\" class=\"data row0 col6\" >0.0000</td>\n",
       "      <td id=\"T_5fa2c_row0_col7\" class=\"data row0 col7\" >0.0000</td>\n",
       "    </tr>\n",
       "  </tbody>\n",
       "</table>\n"
      ],
      "text/plain": [
       "<pandas.io.formats.style.Styler at 0x1c61e79b340>"
      ]
     },
     "metadata": {},
     "output_type": "display_data"
    }
   ],
   "source": [
    "# now getting the probabilities for the holdout set\n",
    "test_results = predict_model(final_model, raw_score=True)  # Holdout predictions\n",
    "y_true = test_results['stroke']\n",
    "y_prob = test_results['prediction_score_1']"
   ]
  },
  {
   "cell_type": "code",
   "execution_count": 34,
   "id": "e34982d4",
   "metadata": {},
   "outputs": [
    {
     "name": "stdout",
     "output_type": "stream",
     "text": [
      "Test Stroke rates per quartile (0=lowest risk, 3=highest risk):\n",
      "[0.0, 0.003937007874015748, 0.03862660944206009, 0.15873015873015872]\n"
     ]
    }
   ],
   "source": [
    "# divide the test predictions into the range defined by the train quartiles\n",
    "quartiles_test = pd.cut(y_prob, bins=[-0.01] + list(quartile_limits.right), labels=False)\n",
    "# calculate the actual stroke rate in each quartile\n",
    "stroke_rates_test = [y_true[quartiles_test == i].mean() for i in range(4)]\n",
    "# print stroke rates per quartile\n",
    "print(\"Test Stroke rates per quartile (0=lowest risk, 3=highest risk):\")\n",
    "print(stroke_rates_test)\n"
   ]
  },
  {
   "cell_type": "code",
   "execution_count": 41,
   "id": "fa7c08e6",
   "metadata": {},
   "outputs": [
    {
     "data": {
      "application/vnd.plotly.v1+json": {
       "config": {
        "plotlyServerURL": "https://plot.ly"
       },
       "data": [
        {
         "marker": {
          "color": "blue"
         },
         "name": "Train Set",
         "type": "bar",
         "x": [
          "Q1",
          "Q2",
          "Q3",
          "Q4"
         ],
         "y": [
          0.001953125,
          0.008771929824561403,
          0.03842364532019704,
          0.14579256360078277
         ]
        },
        {
         "marker": {
          "color": "red"
         },
         "name": "Test Set",
         "type": "bar",
         "x": [
          "Q1",
          "Q2",
          "Q3",
          "Q4"
         ],
         "y": [
          0,
          0.003937007874015748,
          0.03862660944206009,
          0.15873015873015872
         ]
        }
       ],
       "layout": {
        "barmode": "group",
        "template": {
         "data": {
          "bar": [
           {
            "error_x": {
             "color": "#2a3f5f"
            },
            "error_y": {
             "color": "#2a3f5f"
            },
            "marker": {
             "line": {
              "color": "#E5ECF6",
              "width": 0.5
             },
             "pattern": {
              "fillmode": "overlay",
              "size": 10,
              "solidity": 0.2
             }
            },
            "type": "bar"
           }
          ],
          "barpolar": [
           {
            "marker": {
             "line": {
              "color": "#E5ECF6",
              "width": 0.5
             },
             "pattern": {
              "fillmode": "overlay",
              "size": 10,
              "solidity": 0.2
             }
            },
            "type": "barpolar"
           }
          ],
          "carpet": [
           {
            "aaxis": {
             "endlinecolor": "#2a3f5f",
             "gridcolor": "white",
             "linecolor": "white",
             "minorgridcolor": "white",
             "startlinecolor": "#2a3f5f"
            },
            "baxis": {
             "endlinecolor": "#2a3f5f",
             "gridcolor": "white",
             "linecolor": "white",
             "minorgridcolor": "white",
             "startlinecolor": "#2a3f5f"
            },
            "type": "carpet"
           }
          ],
          "choropleth": [
           {
            "colorbar": {
             "outlinewidth": 0,
             "ticks": ""
            },
            "type": "choropleth"
           }
          ],
          "contour": [
           {
            "colorbar": {
             "outlinewidth": 0,
             "ticks": ""
            },
            "colorscale": [
             [
              0,
              "#0d0887"
             ],
             [
              0.1111111111111111,
              "#46039f"
             ],
             [
              0.2222222222222222,
              "#7201a8"
             ],
             [
              0.3333333333333333,
              "#9c179e"
             ],
             [
              0.4444444444444444,
              "#bd3786"
             ],
             [
              0.5555555555555556,
              "#d8576b"
             ],
             [
              0.6666666666666666,
              "#ed7953"
             ],
             [
              0.7777777777777778,
              "#fb9f3a"
             ],
             [
              0.8888888888888888,
              "#fdca26"
             ],
             [
              1,
              "#f0f921"
             ]
            ],
            "type": "contour"
           }
          ],
          "contourcarpet": [
           {
            "colorbar": {
             "outlinewidth": 0,
             "ticks": ""
            },
            "type": "contourcarpet"
           }
          ],
          "heatmap": [
           {
            "colorbar": {
             "outlinewidth": 0,
             "ticks": ""
            },
            "colorscale": [
             [
              0,
              "#0d0887"
             ],
             [
              0.1111111111111111,
              "#46039f"
             ],
             [
              0.2222222222222222,
              "#7201a8"
             ],
             [
              0.3333333333333333,
              "#9c179e"
             ],
             [
              0.4444444444444444,
              "#bd3786"
             ],
             [
              0.5555555555555556,
              "#d8576b"
             ],
             [
              0.6666666666666666,
              "#ed7953"
             ],
             [
              0.7777777777777778,
              "#fb9f3a"
             ],
             [
              0.8888888888888888,
              "#fdca26"
             ],
             [
              1,
              "#f0f921"
             ]
            ],
            "type": "heatmap"
           }
          ],
          "histogram": [
           {
            "marker": {
             "pattern": {
              "fillmode": "overlay",
              "size": 10,
              "solidity": 0.2
             }
            },
            "type": "histogram"
           }
          ],
          "histogram2d": [
           {
            "colorbar": {
             "outlinewidth": 0,
             "ticks": ""
            },
            "colorscale": [
             [
              0,
              "#0d0887"
             ],
             [
              0.1111111111111111,
              "#46039f"
             ],
             [
              0.2222222222222222,
              "#7201a8"
             ],
             [
              0.3333333333333333,
              "#9c179e"
             ],
             [
              0.4444444444444444,
              "#bd3786"
             ],
             [
              0.5555555555555556,
              "#d8576b"
             ],
             [
              0.6666666666666666,
              "#ed7953"
             ],
             [
              0.7777777777777778,
              "#fb9f3a"
             ],
             [
              0.8888888888888888,
              "#fdca26"
             ],
             [
              1,
              "#f0f921"
             ]
            ],
            "type": "histogram2d"
           }
          ],
          "histogram2dcontour": [
           {
            "colorbar": {
             "outlinewidth": 0,
             "ticks": ""
            },
            "colorscale": [
             [
              0,
              "#0d0887"
             ],
             [
              0.1111111111111111,
              "#46039f"
             ],
             [
              0.2222222222222222,
              "#7201a8"
             ],
             [
              0.3333333333333333,
              "#9c179e"
             ],
             [
              0.4444444444444444,
              "#bd3786"
             ],
             [
              0.5555555555555556,
              "#d8576b"
             ],
             [
              0.6666666666666666,
              "#ed7953"
             ],
             [
              0.7777777777777778,
              "#fb9f3a"
             ],
             [
              0.8888888888888888,
              "#fdca26"
             ],
             [
              1,
              "#f0f921"
             ]
            ],
            "type": "histogram2dcontour"
           }
          ],
          "mesh3d": [
           {
            "colorbar": {
             "outlinewidth": 0,
             "ticks": ""
            },
            "type": "mesh3d"
           }
          ],
          "parcoords": [
           {
            "line": {
             "colorbar": {
              "outlinewidth": 0,
              "ticks": ""
             }
            },
            "type": "parcoords"
           }
          ],
          "pie": [
           {
            "automargin": true,
            "type": "pie"
           }
          ],
          "scatter": [
           {
            "fillpattern": {
             "fillmode": "overlay",
             "size": 10,
             "solidity": 0.2
            },
            "type": "scatter"
           }
          ],
          "scatter3d": [
           {
            "line": {
             "colorbar": {
              "outlinewidth": 0,
              "ticks": ""
             }
            },
            "marker": {
             "colorbar": {
              "outlinewidth": 0,
              "ticks": ""
             }
            },
            "type": "scatter3d"
           }
          ],
          "scattercarpet": [
           {
            "marker": {
             "colorbar": {
              "outlinewidth": 0,
              "ticks": ""
             }
            },
            "type": "scattercarpet"
           }
          ],
          "scattergeo": [
           {
            "marker": {
             "colorbar": {
              "outlinewidth": 0,
              "ticks": ""
             }
            },
            "type": "scattergeo"
           }
          ],
          "scattergl": [
           {
            "marker": {
             "colorbar": {
              "outlinewidth": 0,
              "ticks": ""
             }
            },
            "type": "scattergl"
           }
          ],
          "scattermap": [
           {
            "marker": {
             "colorbar": {
              "outlinewidth": 0,
              "ticks": ""
             }
            },
            "type": "scattermap"
           }
          ],
          "scattermapbox": [
           {
            "marker": {
             "colorbar": {
              "outlinewidth": 0,
              "ticks": ""
             }
            },
            "type": "scattermapbox"
           }
          ],
          "scatterpolar": [
           {
            "marker": {
             "colorbar": {
              "outlinewidth": 0,
              "ticks": ""
             }
            },
            "type": "scatterpolar"
           }
          ],
          "scatterpolargl": [
           {
            "marker": {
             "colorbar": {
              "outlinewidth": 0,
              "ticks": ""
             }
            },
            "type": "scatterpolargl"
           }
          ],
          "scatterternary": [
           {
            "marker": {
             "colorbar": {
              "outlinewidth": 0,
              "ticks": ""
             }
            },
            "type": "scatterternary"
           }
          ],
          "surface": [
           {
            "colorbar": {
             "outlinewidth": 0,
             "ticks": ""
            },
            "colorscale": [
             [
              0,
              "#0d0887"
             ],
             [
              0.1111111111111111,
              "#46039f"
             ],
             [
              0.2222222222222222,
              "#7201a8"
             ],
             [
              0.3333333333333333,
              "#9c179e"
             ],
             [
              0.4444444444444444,
              "#bd3786"
             ],
             [
              0.5555555555555556,
              "#d8576b"
             ],
             [
              0.6666666666666666,
              "#ed7953"
             ],
             [
              0.7777777777777778,
              "#fb9f3a"
             ],
             [
              0.8888888888888888,
              "#fdca26"
             ],
             [
              1,
              "#f0f921"
             ]
            ],
            "type": "surface"
           }
          ],
          "table": [
           {
            "cells": {
             "fill": {
              "color": "#EBF0F8"
             },
             "line": {
              "color": "white"
             }
            },
            "header": {
             "fill": {
              "color": "#C8D4E3"
             },
             "line": {
              "color": "white"
             }
            },
            "type": "table"
           }
          ]
         },
         "layout": {
          "annotationdefaults": {
           "arrowcolor": "#2a3f5f",
           "arrowhead": 0,
           "arrowwidth": 1
          },
          "autotypenumbers": "strict",
          "coloraxis": {
           "colorbar": {
            "outlinewidth": 0,
            "ticks": ""
           }
          },
          "colorscale": {
           "diverging": [
            [
             0,
             "#8e0152"
            ],
            [
             0.1,
             "#c51b7d"
            ],
            [
             0.2,
             "#de77ae"
            ],
            [
             0.3,
             "#f1b6da"
            ],
            [
             0.4,
             "#fde0ef"
            ],
            [
             0.5,
             "#f7f7f7"
            ],
            [
             0.6,
             "#e6f5d0"
            ],
            [
             0.7,
             "#b8e186"
            ],
            [
             0.8,
             "#7fbc41"
            ],
            [
             0.9,
             "#4d9221"
            ],
            [
             1,
             "#276419"
            ]
           ],
           "sequential": [
            [
             0,
             "#0d0887"
            ],
            [
             0.1111111111111111,
             "#46039f"
            ],
            [
             0.2222222222222222,
             "#7201a8"
            ],
            [
             0.3333333333333333,
             "#9c179e"
            ],
            [
             0.4444444444444444,
             "#bd3786"
            ],
            [
             0.5555555555555556,
             "#d8576b"
            ],
            [
             0.6666666666666666,
             "#ed7953"
            ],
            [
             0.7777777777777778,
             "#fb9f3a"
            ],
            [
             0.8888888888888888,
             "#fdca26"
            ],
            [
             1,
             "#f0f921"
            ]
           ],
           "sequentialminus": [
            [
             0,
             "#0d0887"
            ],
            [
             0.1111111111111111,
             "#46039f"
            ],
            [
             0.2222222222222222,
             "#7201a8"
            ],
            [
             0.3333333333333333,
             "#9c179e"
            ],
            [
             0.4444444444444444,
             "#bd3786"
            ],
            [
             0.5555555555555556,
             "#d8576b"
            ],
            [
             0.6666666666666666,
             "#ed7953"
            ],
            [
             0.7777777777777778,
             "#fb9f3a"
            ],
            [
             0.8888888888888888,
             "#fdca26"
            ],
            [
             1,
             "#f0f921"
            ]
           ]
          },
          "colorway": [
           "#636efa",
           "#EF553B",
           "#00cc96",
           "#ab63fa",
           "#FFA15A",
           "#19d3f3",
           "#FF6692",
           "#B6E880",
           "#FF97FF",
           "#FECB52"
          ],
          "font": {
           "color": "#2a3f5f"
          },
          "geo": {
           "bgcolor": "white",
           "lakecolor": "white",
           "landcolor": "#E5ECF6",
           "showlakes": true,
           "showland": true,
           "subunitcolor": "white"
          },
          "hoverlabel": {
           "align": "left"
          },
          "hovermode": "closest",
          "mapbox": {
           "style": "light"
          },
          "paper_bgcolor": "white",
          "plot_bgcolor": "#E5ECF6",
          "polar": {
           "angularaxis": {
            "gridcolor": "white",
            "linecolor": "white",
            "ticks": ""
           },
           "bgcolor": "#E5ECF6",
           "radialaxis": {
            "gridcolor": "white",
            "linecolor": "white",
            "ticks": ""
           }
          },
          "scene": {
           "xaxis": {
            "backgroundcolor": "#E5ECF6",
            "gridcolor": "white",
            "gridwidth": 2,
            "linecolor": "white",
            "showbackground": true,
            "ticks": "",
            "zerolinecolor": "white"
           },
           "yaxis": {
            "backgroundcolor": "#E5ECF6",
            "gridcolor": "white",
            "gridwidth": 2,
            "linecolor": "white",
            "showbackground": true,
            "ticks": "",
            "zerolinecolor": "white"
           },
           "zaxis": {
            "backgroundcolor": "#E5ECF6",
            "gridcolor": "white",
            "gridwidth": 2,
            "linecolor": "white",
            "showbackground": true,
            "ticks": "",
            "zerolinecolor": "white"
           }
          },
          "shapedefaults": {
           "line": {
            "color": "#2a3f5f"
           }
          },
          "ternary": {
           "aaxis": {
            "gridcolor": "white",
            "linecolor": "white",
            "ticks": ""
           },
           "baxis": {
            "gridcolor": "white",
            "linecolor": "white",
            "ticks": ""
           },
           "bgcolor": "#E5ECF6",
           "caxis": {
            "gridcolor": "white",
            "linecolor": "white",
            "ticks": ""
           }
          },
          "title": {
           "x": 0.05
          },
          "xaxis": {
           "automargin": true,
           "gridcolor": "white",
           "linecolor": "white",
           "ticks": "",
           "title": {
            "standoff": 15
           },
           "zerolinecolor": "white",
           "zerolinewidth": 2
          },
          "yaxis": {
           "automargin": true,
           "gridcolor": "white",
           "linecolor": "white",
           "ticks": "",
           "title": {
            "standoff": 15
           },
           "zerolinecolor": "white",
           "zerolinewidth": 2
          }
         }
        },
        "title": {
         "text": "Stroke Rates per Quartile in Train and Test Sets"
        },
        "xaxis": {
         "title": {
          "text": "Quartiles (0=Lowest Risk, 3=Highest Risk)"
         }
        },
        "yaxis": {
         "title": {
          "text": "Stroke Rate"
         }
        }
       }
      }
     },
     "metadata": {},
     "output_type": "display_data"
    }
   ],
   "source": [
    "# using plotly, create a bar plot of the stroke rates per quartile for both train and test sets\n",
    "import plotly.graph_objects as go\n",
    "fig = go.Figure(data=[\n",
    "    go.Bar(name='Train Set', x=['Q1', 'Q2', 'Q3', 'Q4'], y=stroke_rates, marker_color='blue'),\n",
    "    go.Bar(name='Test Set', x=['Q1', 'Q2', 'Q3', 'Q4'], y=stroke_rates_test, marker_color='red')\n",
    "])\n",
    "fig.update_layout(\n",
    "    title='Stroke Rates per Quartile in Train and Test Sets',\n",
    "    xaxis_title='Quartiles (0=Lowest Risk, 3=Highest Risk)',\n",
    "    yaxis_title='Stroke Rate',\n",
    "    barmode='group'\n",
    ")\n",
    "fig.show()\n",
    "\n",
    "# Save to JSON\n",
    "with open(\"../content/risk_levels.json\", \"w\") as f:\n",
    "    f.write(fig.to_json())"
   ]
  },
  {
   "cell_type": "code",
   "execution_count": null,
   "id": "6af6c32d",
   "metadata": {},
   "outputs": [],
   "source": [
    "# save the quartile limits and stroke rates to json\n",
    "quartile_data = {\n",
    "    \"quartile_limits\": [str(interval) for interval in quartile_limits],\n",
    "    \"test_stroke_rates\": stroke_rates_test\n",
    "}\n",
    "with open(\"../content/quartile_data.json\", \"w\") as f:\n",
    "    json.dump(quartile_data, f)"
   ]
  },
  {
   "cell_type": "code",
   "execution_count": 11,
   "id": "459543a7",
   "metadata": {},
   "outputs": [
    {
     "data": {
      "text/html": [],
      "text/plain": [
       "<IPython.core.display.HTML object>"
      ]
     },
     "metadata": {},
     "output_type": "display_data"
    },
    {
     "data": {
      "image/png": "[encoded data removed]",
      "text/plain": [
       "<Figure size 800x500 with 1 Axes>"
      ]
     },
     "metadata": {},
     "output_type": "display_data"
    }
   ],
   "source": [
    "# Summary plot (global interpretability)\n",
    "plot_model(tuned_model, plot='feature_all')"
   ]
  },
  {
   "cell_type": "code",
   "execution_count": 13,
   "id": "29938554",
   "metadata": {},
   "outputs": [
    {
     "data": {
      "text/html": [
       "<style>#sk-container-id-1 {\n",
       "  /* Definition of color scheme common for light and dark mode */\n",
       "  --sklearn-color-text: black;\n",
       "  --sklearn-color-line: gray;\n",
       "  /* Definition of color scheme for unfitted estimators */\n",
       "  --sklearn-color-unfitted-level-0: #fff5e6;\n",
       "  --sklearn-color-unfitted-level-1: #f6e4d2;\n",
       "  --sklearn-color-unfitted-level-2: #ffe0b3;\n",
       "  --sklearn-color-unfitted-level-3: chocolate;\n",
       "  /* Definition of color scheme for fitted estimators */\n",
       "  --sklearn-color-fitted-level-0: #f0f8ff;\n",
       "  --sklearn-color-fitted-level-1: #d4ebff;\n",
       "  --sklearn-color-fitted-level-2: #b3dbfd;\n",
       "  --sklearn-color-fitted-level-3: cornflowerblue;\n",
       "\n",
       "  /* Specific color for light theme */\n",
       "  --sklearn-color-text-on-default-background: var(--sg-text-color, var(--theme-code-foreground, var(--jp-content-font-color1, black)));\n",
       "  --sklearn-color-background: var(--sg-background-color, var(--theme-background, var(--jp-layout-color0, white)));\n",
       "  --sklearn-color-border-box: var(--sg-text-color, var(--theme-code-foreground, var(--jp-content-font-color1, black)));\n",
       "  --sklearn-color-icon: #696969;\n",
       "\n",
       "  @media (prefers-color-scheme: dark) {\n",
       "    /* Redefinition of color scheme for dark theme */\n",
       "    --sklearn-color-text-on-default-background: var(--sg-text-color, var(--theme-code-foreground, var(--jp-content-font-color1, white)));\n",
       "    --sklearn-color-background: var(--sg-background-color, var(--theme-background, var(--jp-layout-color0, #111)));\n",
       "    --sklearn-color-border-box: var(--sg-text-color, var(--theme-code-foreground, var(--jp-content-font-color1, white)));\n",
       "    --sklearn-color-icon: #878787;\n",
       "  }\n",
       "}\n",
       "\n",
       "#sk-container-id-1 {\n",
       "  color: var(--sklearn-color-text);\n",
       "}\n",
       "\n",
       "#sk-container-id-1 pre {\n",
       "  padding: 0;\n",
       "}\n",
       "\n",
       "#sk-container-id-1 input.sk-hidden--visually {\n",
       "  border: 0;\n",
       "  clip: rect(1px 1px 1px 1px);\n",
       "  clip: rect(1px, 1px, 1px, 1px);\n",
       "  height: 1px;\n",
       "  margin: -1px;\n",
       "  overflow: hidden;\n",
       "  padding: 0;\n",
       "  position: absolute;\n",
       "  width: 1px;\n",
       "}\n",
       "\n",
       "#sk-container-id-1 div.sk-dashed-wrapped {\n",
       "  border: 1px dashed var(--sklearn-color-line);\n",
       "  margin: 0 0.4em 0.5em 0.4em;\n",
       "  box-sizing: border-box;\n",
       "  padding-bottom: 0.4em;\n",
       "  background-color: var(--sklearn-color-background);\n",
       "}\n",
       "\n",
       "#sk-container-id-1 div.sk-container {\n",
       "  /* jupyter's `normalize.less` sets `[hidden] { display: none; }`\n",
       "     but bootstrap.min.css set `[hidden] { display: none !important; }`\n",
       "     so we also need the `!important` here to be able to override the\n",
       "     default hidden behavior on the sphinx rendered scikit-learn.org.\n",
       "     See: https://github.com/scikit-learn/scikit-learn/issues/21755 */\n",
       "  display: inline-block !important;\n",
       "  position: relative;\n",
       "}\n",
       "\n",
       "#sk-container-id-1 div.sk-text-repr-fallback {\n",
       "  display: none;\n",
       "}\n",
       "\n",
       "div.sk-parallel-item,\n",
       "div.sk-serial,\n",
       "div.sk-item {\n",
       "  /* draw centered vertical line to link estimators */\n",
       "  background-image: linear-gradient(var(--sklearn-color-text-on-default-background), var(--sklearn-color-text-on-default-background));\n",
       "  background-size: 2px 100%;\n",
       "  background-repeat: no-repeat;\n",
       "  background-position: center center;\n",
       "}\n",
       "\n",
       "/* Parallel-specific style estimator block */\n",
       "\n",
       "#sk-container-id-1 div.sk-parallel-item::after {\n",
       "  content: \"\";\n",
       "  width: 100%;\n",
       "  border-bottom: 2px solid var(--sklearn-color-text-on-default-background);\n",
       "  flex-grow: 1;\n",
       "}\n",
       "\n",
       "#sk-container-id-1 div.sk-parallel {\n",
       "  display: flex;\n",
       "  align-items: stretch;\n",
       "  justify-content: center;\n",
       "  background-color: var(--sklearn-color-background);\n",
       "  position: relative;\n",
       "}\n",
       "\n",
       "#sk-container-id-1 div.sk-parallel-item {\n",
       "  display: flex;\n",
       "  flex-direction: column;\n",
       "}\n",
       "\n",
       "#sk-container-id-1 div.sk-parallel-item:first-child::after {\n",
       "  align-self: flex-end;\n",
       "  width: 50%;\n",
       "}\n",
       "\n",
       "#sk-container-id-1 div.sk-parallel-item:last-child::after {\n",
       "  align-self: flex-start;\n",
       "  width: 50%;\n",
       "}\n",
       "\n",
       "#sk-container-id-1 div.sk-parallel-item:only-child::after {\n",
       "  width: 0;\n",
       "}\n",
       "\n",
       "/* Serial-specific style estimator block */\n",
       "\n",
       "#sk-container-id-1 div.sk-serial {\n",
       "  display: flex;\n",
       "  flex-direction: column;\n",
       "  align-items: center;\n",
       "  background-color: var(--sklearn-color-background);\n",
       "  padding-right: 1em;\n",
       "  padding-left: 1em;\n",
       "}\n",
       "\n",
       "\n",
       "/* Toggleable style: style used for estimator/Pipeline/ColumnTransformer box that is\n",
       "clickable and can be expanded/collapsed.\n",
       "- Pipeline and ColumnTransformer use this feature and define the default style\n",
       "- Estimators will overwrite some part of the style using the `sk-estimator` class\n",
       "*/\n",
       "\n",
       "/* Pipeline and ColumnTransformer style (default) */\n",
       "\n",
       "#sk-container-id-1 div.sk-toggleable {\n",
       "  /* Default theme specific background. It is overwritten whether we have a\n",
       "  specific estimator or a Pipeline/ColumnTransformer */\n",
       "  background-color: var(--sklearn-color-background);\n",
       "}\n",
       "\n",
       "/* Toggleable label */\n",
       "#sk-container-id-1 label.sk-toggleable__label {\n",
       "  cursor: pointer;\n",
       "  display: block;\n",
       "  width: 100%;\n",
       "  margin-bottom: 0;\n",
       "  padding: 0.5em;\n",
       "  box-sizing: border-box;\n",
       "  text-align: center;\n",
       "}\n",
       "\n",
       "#sk-container-id-1 label.sk-toggleable__label-arrow:before {\n",
       "  /* Arrow on the left of the label */\n",
       "  content: \"▸\";\n",
       "  float: left;\n",
       "  margin-right: 0.25em;\n",
       "  color: var(--sklearn-color-icon);\n",
       "}\n",
       "\n",
       "#sk-container-id-1 label.sk-toggleable__label-arrow:hover:before {\n",
       "  color: var(--sklearn-color-text);\n",
       "}\n",
       "\n",
       "/* Toggleable content - dropdown */\n",
       "\n",
       "#sk-container-id-1 div.sk-toggleable__content {\n",
       "  max-height: 0;\n",
       "  max-width: 0;\n",
       "  overflow: hidden;\n",
       "  text-align: left;\n",
       "  /* unfitted */\n",
       "  background-color: var(--sklearn-color-unfitted-level-0);\n",
       "}\n",
       "\n",
       "#sk-container-id-1 div.sk-toggleable__content.fitted {\n",
       "  /* fitted */\n",
       "  background-color: var(--sklearn-color-fitted-level-0);\n",
       "}\n",
       "\n",
       "#sk-container-id-1 div.sk-toggleable__content pre {\n",
       "  margin: 0.2em;\n",
       "  border-radius: 0.25em;\n",
       "  color: var(--sklearn-color-text);\n",
       "  /* unfitted */\n",
       "  background-color: var(--sklearn-color-unfitted-level-0);\n",
       "}\n",
       "\n",
       "#sk-container-id-1 div.sk-toggleable__content.fitted pre {\n",
       "  /* unfitted */\n",
       "  background-color: var(--sklearn-color-fitted-level-0);\n",
       "}\n",
       "\n",
       "#sk-container-id-1 input.sk-toggleable__control:checked~div.sk-toggleable__content {\n",
       "  /* Expand drop-down */\n",
       "  max-height: 200px;\n",
       "  max-width: 100%;\n",
       "  overflow: auto;\n",
       "}\n",
       "\n",
       "#sk-container-id-1 input.sk-toggleable__control:checked~label.sk-toggleable__label-arrow:before {\n",
       "  content: \"▾\";\n",
       "}\n",
       "\n",
       "/* Pipeline/ColumnTransformer-specific style */\n",
       "\n",
       "#sk-container-id-1 div.sk-label input.sk-toggleable__control:checked~label.sk-toggleable__label {\n",
       "  color: var(--sklearn-color-text);\n",
       "  background-color: var(--sklearn-color-unfitted-level-2);\n",
       "}\n",
       "\n",
       "#sk-container-id-1 div.sk-label.fitted input.sk-toggleable__control:checked~label.sk-toggleable__label {\n",
       "  background-color: var(--sklearn-color-fitted-level-2);\n",
       "}\n",
       "\n",
       "/* Estimator-specific style */\n",
       "\n",
       "/* Colorize estimator box */\n",
       "#sk-container-id-1 div.sk-estimator input.sk-toggleable__control:checked~label.sk-toggleable__label {\n",
       "  /* unfitted */\n",
       "  background-color: var(--sklearn-color-unfitted-level-2);\n",
       "}\n",
       "\n",
       "#sk-container-id-1 div.sk-estimator.fitted input.sk-toggleable__control:checked~label.sk-toggleable__label {\n",
       "  /* fitted */\n",
       "  background-color: var(--sklearn-color-fitted-level-2);\n",
       "}\n",
       "\n",
       "#sk-container-id-1 div.sk-label label.sk-toggleable__label,\n",
       "#sk-container-id-1 div.sk-label label {\n",
       "  /* The background is the default theme color */\n",
       "  color: var(--sklearn-color-text-on-default-background);\n",
       "}\n",
       "\n",
       "/* On hover, darken the color of the background */\n",
       "#sk-container-id-1 div.sk-label:hover label.sk-toggleable__label {\n",
       "  color: var(--sklearn-color-text);\n",
       "  background-color: var(--sklearn-color-unfitted-level-2);\n",
       "}\n",
       "\n",
       "/* Label box, darken color on hover, fitted */\n",
       "#sk-container-id-1 div.sk-label.fitted:hover label.sk-toggleable__label.fitted {\n",
       "  color: var(--sklearn-color-text);\n",
       "  background-color: var(--sklearn-color-fitted-level-2);\n",
       "}\n",
       "\n",
       "/* Estimator label */\n",
       "\n",
       "#sk-container-id-1 div.sk-label label {\n",
       "  font-family: monospace;\n",
       "  font-weight: bold;\n",
       "  display: inline-block;\n",
       "  line-height: 1.2em;\n",
       "}\n",
       "\n",
       "#sk-container-id-1 div.sk-label-container {\n",
       "  text-align: center;\n",
       "}\n",
       "\n",
       "/* Estimator-specific */\n",
       "#sk-container-id-1 div.sk-estimator {\n",
       "  font-family: monospace;\n",
       "  border: 1px dotted var(--sklearn-color-border-box);\n",
       "  border-radius: 0.25em;\n",
       "  box-sizing: border-box;\n",
       "  margin-bottom: 0.5em;\n",
       "  /* unfitted */\n",
       "  background-color: var(--sklearn-color-unfitted-level-0);\n",
       "}\n",
       "\n",
       "#sk-container-id-1 div.sk-estimator.fitted {\n",
       "  /* fitted */\n",
       "  background-color: var(--sklearn-color-fitted-level-0);\n",
       "}\n",
       "\n",
       "/* on hover */\n",
       "#sk-container-id-1 div.sk-estimator:hover {\n",
       "  /* unfitted */\n",
       "  background-color: var(--sklearn-color-unfitted-level-2);\n",
       "}\n",
       "\n",
       "#sk-container-id-1 div.sk-estimator.fitted:hover {\n",
       "  /* fitted */\n",
       "  background-color: var(--sklearn-color-fitted-level-2);\n",
       "}\n",
       "\n",
       "/* Specification for estimator info (e.g. \"i\" and \"?\") */\n",
       "\n",
       "/* Common style for \"i\" and \"?\" */\n",
       "\n",
       ".sk-estimator-doc-link,\n",
       "a:link.sk-estimator-doc-link,\n",
       "a:visited.sk-estimator-doc-link {\n",
       "  float: right;\n",
       "  font-size: smaller;\n",
       "  line-height: 1em;\n",
       "  font-family: monospace;\n",
       "  background-color: var(--sklearn-color-background);\n",
       "  border-radius: 1em;\n",
       "  height: 1em;\n",
       "  width: 1em;\n",
       "  text-decoration: none !important;\n",
       "  margin-left: 1ex;\n",
       "  /* unfitted */\n",
       "  border: var(--sklearn-color-unfitted-level-1) 1pt solid;\n",
       "  color: var(--sklearn-color-unfitted-level-1);\n",
       "}\n",
       "\n",
       ".sk-estimator-doc-link.fitted,\n",
       "a:link.sk-estimator-doc-link.fitted,\n",
       "a:visited.sk-estimator-doc-link.fitted {\n",
       "  /* fitted */\n",
       "  border: var(--sklearn-color-fitted-level-1) 1pt solid;\n",
       "  color: var(--sklearn-color-fitted-level-1);\n",
       "}\n",
       "\n",
       "/* On hover */\n",
       "div.sk-estimator:hover .sk-estimator-doc-link:hover,\n",
       ".sk-estimator-doc-link:hover,\n",
       "div.sk-label-container:hover .sk-estimator-doc-link:hover,\n",
       ".sk-estimator-doc-link:hover {\n",
       "  /* unfitted */\n",
       "  background-color: var(--sklearn-color-unfitted-level-3);\n",
       "  color: var(--sklearn-color-background);\n",
       "  text-decoration: none;\n",
       "}\n",
       "\n",
       "div.sk-estimator.fitted:hover .sk-estimator-doc-link.fitted:hover,\n",
       ".sk-estimator-doc-link.fitted:hover,\n",
       "div.sk-label-container:hover .sk-estimator-doc-link.fitted:hover,\n",
       ".sk-estimator-doc-link.fitted:hover {\n",
       "  /* fitted */\n",
       "  background-color: var(--sklearn-color-fitted-level-3);\n",
       "  color: var(--sklearn-color-background);\n",
       "  text-decoration: none;\n",
       "}\n",
       "\n",
       "/* Span, style for the box shown on hovering the info icon */\n",
       ".sk-estimator-doc-link span {\n",
       "  display: none;\n",
       "  z-index: 9999;\n",
       "  position: relative;\n",
       "  font-weight: normal;\n",
       "  right: .2ex;\n",
       "  padding: .5ex;\n",
       "  margin: .5ex;\n",
       "  width: min-content;\n",
       "  min-width: 20ex;\n",
       "  max-width: 50ex;\n",
       "  color: var(--sklearn-color-text);\n",
       "  box-shadow: 2pt 2pt 4pt #999;\n",
       "  /* unfitted */\n",
       "  background: var(--sklearn-color-unfitted-level-0);\n",
       "  border: .5pt solid var(--sklearn-color-unfitted-level-3);\n",
       "}\n",
       "\n",
       ".sk-estimator-doc-link.fitted span {\n",
       "  /* fitted */\n",
       "  background: var(--sklearn-color-fitted-level-0);\n",
       "  border: var(--sklearn-color-fitted-level-3);\n",
       "}\n",
       "\n",
       ".sk-estimator-doc-link:hover span {\n",
       "  display: block;\n",
       "}\n",
       "\n",
       "/* \"?\"-specific style due to the `<a>` HTML tag */\n",
       "\n",
       "#sk-container-id-1 a.estimator_doc_link {\n",
       "  float: right;\n",
       "  font-size: 1rem;\n",
       "  line-height: 1em;\n",
       "  font-family: monospace;\n",
       "  background-color: var(--sklearn-color-background);\n",
       "  border-radius: 1rem;\n",
       "  height: 1rem;\n",
       "  width: 1rem;\n",
       "  text-decoration: none;\n",
       "  /* unfitted */\n",
       "  color: var(--sklearn-color-unfitted-level-1);\n",
       "  border: var(--sklearn-color-unfitted-level-1) 1pt solid;\n",
       "}\n",
       "\n",
       "#sk-container-id-1 a.estimator_doc_link.fitted {\n",
       "  /* fitted */\n",
       "  border: var(--sklearn-color-fitted-level-1) 1pt solid;\n",
       "  color: var(--sklearn-color-fitted-level-1);\n",
       "}\n",
       "\n",
       "/* On hover */\n",
       "#sk-container-id-1 a.estimator_doc_link:hover {\n",
       "  /* unfitted */\n",
       "  background-color: var(--sklearn-color-unfitted-level-3);\n",
       "  color: var(--sklearn-color-background);\n",
       "  text-decoration: none;\n",
       "}\n",
       "\n",
       "#sk-container-id-1 a.estimator_doc_link.fitted:hover {\n",
       "  /* fitted */\n",
       "  background-color: var(--sklearn-color-fitted-level-3);\n",
       "}\n",
       "</style><div id=\"sk-container-id-1\" class=\"sk-top-container\"><div class=\"sk-text-repr-fallback\"><pre>LogisticRegression(C=0.056, class_weight={}, dual=False, fit_intercept=True,\n",
       "                   intercept_scaling=1, l1_ratio=None, max_iter=1000,\n",
       "                   multi_class=&#x27;auto&#x27;, n_jobs=None, penalty=&#x27;l2&#x27;,\n",
       "                   random_state=123, solver=&#x27;lbfgs&#x27;, tol=0.0001, verbose=0,\n",
       "                   warm_start=False)</pre><b>In a Jupyter environment, please rerun this cell to show the HTML representation or trust the notebook. <br />On GitHub, the HTML representation is unable to render, please try loading this page with nbviewer.org.</b></div><div class=\"sk-container\" hidden><div class=\"sk-item\"><div class=\"sk-estimator fitted sk-toggleable\"><input class=\"sk-toggleable__control sk-hidden--visually\" id=\"sk-estimator-id-1\" type=\"checkbox\" checked><label for=\"sk-estimator-id-1\" class=\"sk-toggleable__label fitted sk-toggleable__label-arrow fitted\">&nbsp;&nbsp;LogisticRegression<a class=\"sk-estimator-doc-link fitted\" rel=\"noreferrer\" target=\"_blank\" href=\"https://scikit-learn.org/1.4/modules/generated/sklearn.linear_model.LogisticRegression.html\">?<span>Documentation for LogisticRegression</span></a><span class=\"sk-estimator-doc-link fitted\">i<span>Fitted</span></span></label><div class=\"sk-toggleable__content fitted\"><pre>LogisticRegression(C=0.056, class_weight={}, dual=False, fit_intercept=True,\n",
       "                   intercept_scaling=1, l1_ratio=None, max_iter=1000,\n",
       "                   multi_class=&#x27;auto&#x27;, n_jobs=None, penalty=&#x27;l2&#x27;,\n",
       "                   random_state=123, solver=&#x27;lbfgs&#x27;, tol=0.0001, verbose=0,\n",
       "                   warm_start=False)</pre></div> </div></div></div></div>"
      ],
      "text/plain": [
       "LogisticRegression(C=0.056, class_weight={}, dual=False, fit_intercept=True,\n",
       "                   intercept_scaling=1, l1_ratio=None, max_iter=1000,\n",
       "                   multi_class='auto', n_jobs=None, penalty='l2',\n",
       "                   random_state=123, solver='lbfgs', tol=0.0001, verbose=0,\n",
       "                   warm_start=False)"
      ]
     },
     "execution_count": 13,
     "metadata": {},
     "output_type": "execute_result"
    }
   ],
   "source": [
    "tuned_model"
   ]
  },
  {
   "cell_type": "code",
   "execution_count": 17,
   "id": "da757774",
   "metadata": {},
   "outputs": [
    {
     "name": "stdout",
     "output_type": "stream",
     "text": [
      "Intercept: [-7.60225925]\n",
      "Coefficients: [[ 0.06938658  0.22535307  0.13904857  0.00423431  0.0012333  -0.02789263\n",
      "  -0.00083743 -0.06926564 -0.00549836  0.2295652  -0.1379987   0.06467946\n",
      "   0.13030242  0.0865347  -0.13921129  0.19897382]]\n"
     ]
    }
   ],
   "source": [
    "\n",
    "# Access coefficients and intercept\n",
    "coeffs = tuned_model.coef_\n",
    "intercept = tuned_model.intercept_\n",
    "\n",
    "print(\"Intercept:\", intercept)\n",
    "print(\"Coefficients:\", coeffs)"
   ]
  },
  {
   "cell_type": "code",
   "execution_count": 20,
   "id": "e989bed2",
   "metadata": {},
   "outputs": [
    {
     "data": {
      "application/vnd.microsoft.datawrangler.viewer.v0+json": {
       "columns": [
        {
         "name": "index",
         "rawType": "int64",
         "type": "integer"
        },
        {
         "name": "Feature",
         "rawType": "object",
         "type": "string"
        },
        {
         "name": "Coefficient",
         "rawType": "float64",
         "type": "float"
        }
       ],
       "ref": "2df28aba-8e94-41fa-91aa-1bf3c055adfa",
       "rows": [
        [
         "9",
         "work_type_Private",
         "0.22956520498879307"
        ],
        [
         "1",
         "hypertension",
         "0.22535307281297198"
        ],
        [
         "15",
         "smoking_status_smokes",
         "0.19897381944542933"
        ],
        [
         "2",
         "heart_disease",
         "0.13904857146110855"
        ],
        [
         "12",
         "Residence_type_Urban",
         "0.13030242140079365"
        ],
        [
         "13",
         "smoking_status_formerly smoked",
         "0.08653470377987471"
        ],
        [
         "0",
         "age",
         "0.06938657976871301"
        ],
        [
         "11",
         "work_type_children",
         "0.06467945916177405"
        ],
        [
         "3",
         "avg_glucose_level",
         "0.004234314134012398"
        ],
        [
         "4",
         "bmi",
         "0.0012333041584556808"
        ],
        [
         "6",
         "gender_Other",
         "-0.0008374284315994271"
        ],
        [
         "8",
         "work_type_Never_worked",
         "-0.005498357042647163"
        ],
        [
         "5",
         "gender_Male",
         "-0.027892628425958403"
        ],
        [
         "7",
         "ever_married_Yes",
         "-0.06926564212059515"
        ],
        [
         "10",
         "work_type_Self-employed",
         "-0.1379987007136967"
        ],
        [
         "14",
         "smoking_status_never smoked",
         "-0.1392112907654929"
        ]
       ],
       "shape": {
        "columns": 2,
        "rows": 16
       }
      },
      "text/html": [
       "<div>\n",
       "<style scoped>\n",
       "    .dataframe tbody tr th:only-of-type {\n",
       "        vertical-align: middle;\n",
       "    }\n",
       "\n",
       "    .dataframe tbody tr th {\n",
       "        vertical-align: top;\n",
       "    }\n",
       "\n",
       "    .dataframe thead th {\n",
       "        text-align: right;\n",
       "    }\n",
       "</style>\n",
       "<table border=\"1\" class=\"dataframe\">\n",
       "  <thead>\n",
       "    <tr style=\"text-align: right;\">\n",
       "      <th></th>\n",
       "      <th>Feature</th>\n",
       "      <th>Coefficient</th>\n",
       "    </tr>\n",
       "  </thead>\n",
       "  <tbody>\n",
       "    <tr>\n",
       "      <th>9</th>\n",
       "      <td>work_type_Private</td>\n",
       "      <td>0.229565</td>\n",
       "    </tr>\n",
       "    <tr>\n",
       "      <th>1</th>\n",
       "      <td>hypertension</td>\n",
       "      <td>0.225353</td>\n",
       "    </tr>\n",
       "    <tr>\n",
       "      <th>15</th>\n",
       "      <td>smoking_status_smokes</td>\n",
       "      <td>0.198974</td>\n",
       "    </tr>\n",
       "    <tr>\n",
       "      <th>2</th>\n",
       "      <td>heart_disease</td>\n",
       "      <td>0.139049</td>\n",
       "    </tr>\n",
       "    <tr>\n",
       "      <th>12</th>\n",
       "      <td>Residence_type_Urban</td>\n",
       "      <td>0.130302</td>\n",
       "    </tr>\n",
       "    <tr>\n",
       "      <th>13</th>\n",
       "      <td>smoking_status_formerly smoked</td>\n",
       "      <td>0.086535</td>\n",
       "    </tr>\n",
       "    <tr>\n",
       "      <th>0</th>\n",
       "      <td>age</td>\n",
       "      <td>0.069387</td>\n",
       "    </tr>\n",
       "    <tr>\n",
       "      <th>11</th>\n",
       "      <td>work_type_children</td>\n",
       "      <td>0.064679</td>\n",
       "    </tr>\n",
       "    <tr>\n",
       "      <th>3</th>\n",
       "      <td>avg_glucose_level</td>\n",
       "      <td>0.004234</td>\n",
       "    </tr>\n",
       "    <tr>\n",
       "      <th>4</th>\n",
       "      <td>bmi</td>\n",
       "      <td>0.001233</td>\n",
       "    </tr>\n",
       "    <tr>\n",
       "      <th>6</th>\n",
       "      <td>gender_Other</td>\n",
       "      <td>-0.000837</td>\n",
       "    </tr>\n",
       "    <tr>\n",
       "      <th>8</th>\n",
       "      <td>work_type_Never_worked</td>\n",
       "      <td>-0.005498</td>\n",
       "    </tr>\n",
       "    <tr>\n",
       "      <th>5</th>\n",
       "      <td>gender_Male</td>\n",
       "      <td>-0.027893</td>\n",
       "    </tr>\n",
       "    <tr>\n",
       "      <th>7</th>\n",
       "      <td>ever_married_Yes</td>\n",
       "      <td>-0.069266</td>\n",
       "    </tr>\n",
       "    <tr>\n",
       "      <th>10</th>\n",
       "      <td>work_type_Self-employed</td>\n",
       "      <td>-0.137999</td>\n",
       "    </tr>\n",
       "    <tr>\n",
       "      <th>14</th>\n",
       "      <td>smoking_status_never smoked</td>\n",
       "      <td>-0.139211</td>\n",
       "    </tr>\n",
       "  </tbody>\n",
       "</table>\n",
       "</div>"
      ],
      "text/plain": [
       "                           Feature  Coefficient\n",
       "9                work_type_Private     0.229565\n",
       "1                     hypertension     0.225353\n",
       "15           smoking_status_smokes     0.198974\n",
       "2                    heart_disease     0.139049\n",
       "12            Residence_type_Urban     0.130302\n",
       "13  smoking_status_formerly smoked     0.086535\n",
       "0                              age     0.069387\n",
       "11              work_type_children     0.064679\n",
       "3                avg_glucose_level     0.004234\n",
       "4                              bmi     0.001233\n",
       "6                     gender_Other    -0.000837\n",
       "8           work_type_Never_worked    -0.005498\n",
       "5                      gender_Male    -0.027893\n",
       "7                 ever_married_Yes    -0.069266\n",
       "10         work_type_Self-employed    -0.137999\n",
       "14     smoking_status_never smoked    -0.139211"
      ]
     },
     "execution_count": 20,
     "metadata": {},
     "output_type": "execute_result"
    }
   ],
   "source": [
    "#Get feature names from PyCaret’s preprocessing pipeline\n",
    "feature_names = get_config(\"X_train\").columns\n",
    "\n",
    "# Create a DataFrame with coefficients\n",
    "coef_df = pd.DataFrame({\n",
    "    \"Feature\": feature_names,\n",
    "    \"Coefficient\": coeffs.flatten()\n",
    "}).sort_values(by=\"Coefficient\", ascending=False)\n",
    "\n",
    "coef_df  # Top 10 most positive predictors"
   ]
  },
  {
   "cell_type": "code",
   "execution_count": 43,
   "id": "3b650bab",
   "metadata": {},
   "outputs": [
    {
     "data": {
      "application/vnd.plotly.v1+json": {
       "config": {
        "plotlyServerURL": "https://plot.ly"
       },
       "data": [
        {
         "hovertemplate": "Feature=%{x}<br>Coefficient=%{y}<extra></extra>",
         "legendgroup": "",
         "marker": {
          "color": "#636efa",
          "pattern": {
           "shape": ""
          }
         },
         "name": "",
         "orientation": "v",
         "showlegend": false,
         "textposition": "auto",
         "type": "bar",
         "x": [
          "work_type_Private",
          "hypertension",
          "smoking_status_smokes",
          "heart_disease",
          "Residence_type_Urban",
          "smoking_status_formerly smoked",
          "age",
          "work_type_children",
          "avg_glucose_level",
          "bmi",
          "gender_Other",
          "work_type_Never_worked",
          "gender_Male",
          "ever_married_Yes",
          "work_type_Self-employed",
          "smoking_status_never smoked"
         ],
         "xaxis": "x",
         "y": {
          "bdata": "wPrcg2RizT8HdeSWXtjMPz+go1/5d8k/wpB99VfMwT89xUDvv63AP8AftGojJ7Y/kk7jolHDsT8totJB1Y6wP9wLoAsAWHE/852zQdo0VD8cpfzc23BLv7Xf4PpxhXa/fk6Om+KPnL8n96SjZLuxv0hYOgHxqcG/vS6J8qzRwb8=",
          "dtype": "f8"
         },
         "yaxis": "y"
        }
       ],
       "layout": {
        "barmode": "relative",
        "legend": {
         "tracegroupgap": 0
        },
        "template": {
         "data": {
          "bar": [
           {
            "error_x": {
             "color": "#2a3f5f"
            },
            "error_y": {
             "color": "#2a3f5f"
            },
            "marker": {
             "line": {
              "color": "#E5ECF6",
              "width": 0.5
             },
             "pattern": {
              "fillmode": "overlay",
              "size": 10,
              "solidity": 0.2
             }
            },
            "type": "bar"
           }
          ],
          "barpolar": [
           {
            "marker": {
             "line": {
              "color": "#E5ECF6",
              "width": 0.5
             },
             "pattern": {
              "fillmode": "overlay",
              "size": 10,
              "solidity": 0.2
             }
            },
            "type": "barpolar"
           }
          ],
          "carpet": [
           {
            "aaxis": {
             "endlinecolor": "#2a3f5f",
             "gridcolor": "white",
             "linecolor": "white",
             "minorgridcolor": "white",
             "startlinecolor": "#2a3f5f"
            },
            "baxis": {
             "endlinecolor": "#2a3f5f",
             "gridcolor": "white",
             "linecolor": "white",
             "minorgridcolor": "white",
             "startlinecolor": "#2a3f5f"
            },
            "type": "carpet"
           }
          ],
          "choropleth": [
           {
            "colorbar": {
             "outlinewidth": 0,
             "ticks": ""
            },
            "type": "choropleth"
           }
          ],
          "contour": [
           {
            "colorbar": {
             "outlinewidth": 0,
             "ticks": ""
            },
            "colorscale": [
             [
              0,
              "#0d0887"
             ],
             [
              0.1111111111111111,
              "#46039f"
             ],
             [
              0.2222222222222222,
              "#7201a8"
             ],
             [
              0.3333333333333333,
              "#9c179e"
             ],
             [
              0.4444444444444444,
              "#bd3786"
             ],
             [
              0.5555555555555556,
              "#d8576b"
             ],
             [
              0.6666666666666666,
              "#ed7953"
             ],
             [
              0.7777777777777778,
              "#fb9f3a"
             ],
             [
              0.8888888888888888,
              "#fdca26"
             ],
             [
              1,
              "#f0f921"
             ]
            ],
            "type": "contour"
           }
          ],
          "contourcarpet": [
           {
            "colorbar": {
             "outlinewidth": 0,
             "ticks": ""
            },
            "type": "contourcarpet"
           }
          ],
          "heatmap": [
           {
            "colorbar": {
             "outlinewidth": 0,
             "ticks": ""
            },
            "colorscale": [
             [
              0,
              "#0d0887"
             ],
             [
              0.1111111111111111,
              "#46039f"
             ],
             [
              0.2222222222222222,
              "#7201a8"
             ],
             [
              0.3333333333333333,
              "#9c179e"
             ],
             [
              0.4444444444444444,
              "#bd3786"
             ],
             [
              0.5555555555555556,
              "#d8576b"
             ],
             [
              0.6666666666666666,
              "#ed7953"
             ],
             [
              0.7777777777777778,
              "#fb9f3a"
             ],
             [
              0.8888888888888888,
              "#fdca26"
             ],
             [
              1,
              "#f0f921"
             ]
            ],
            "type": "heatmap"
           }
          ],
          "histogram": [
           {
            "marker": {
             "pattern": {
              "fillmode": "overlay",
              "size": 10,
              "solidity": 0.2
             }
            },
            "type": "histogram"
           }
          ],
          "histogram2d": [
           {
            "colorbar": {
             "outlinewidth": 0,
             "ticks": ""
            },
            "colorscale": [
             [
              0,
              "#0d0887"
             ],
             [
              0.1111111111111111,
              "#46039f"
             ],
             [
              0.2222222222222222,
              "#7201a8"
             ],
             [
              0.3333333333333333,
              "#9c179e"
             ],
             [
              0.4444444444444444,
              "#bd3786"
             ],
             [
              0.5555555555555556,
              "#d8576b"
             ],
             [
              0.6666666666666666,
              "#ed7953"
             ],
             [
              0.7777777777777778,
              "#fb9f3a"
             ],
             [
              0.8888888888888888,
              "#fdca26"
             ],
             [
              1,
              "#f0f921"
             ]
            ],
            "type": "histogram2d"
           }
          ],
          "histogram2dcontour": [
           {
            "colorbar": {
             "outlinewidth": 0,
             "ticks": ""
            },
            "colorscale": [
             [
              0,
              "#0d0887"
             ],
             [
              0.1111111111111111,
              "#46039f"
             ],
             [
              0.2222222222222222,
              "#7201a8"
             ],
             [
              0.3333333333333333,
              "#9c179e"
             ],
             [
              0.4444444444444444,
              "#bd3786"
             ],
             [
              0.5555555555555556,
              "#d8576b"
             ],
             [
              0.6666666666666666,
              "#ed7953"
             ],
             [
              0.7777777777777778,
              "#fb9f3a"
             ],
             [
              0.8888888888888888,
              "#fdca26"
             ],
             [
              1,
              "#f0f921"
             ]
            ],
            "type": "histogram2dcontour"
           }
          ],
          "mesh3d": [
           {
            "colorbar": {
             "outlinewidth": 0,
             "ticks": ""
            },
            "type": "mesh3d"
           }
          ],
          "parcoords": [
           {
            "line": {
             "colorbar": {
              "outlinewidth": 0,
              "ticks": ""
             }
            },
            "type": "parcoords"
           }
          ],
          "pie": [
           {
            "automargin": true,
            "type": "pie"
           }
          ],
          "scatter": [
           {
            "fillpattern": {
             "fillmode": "overlay",
             "size": 10,
             "solidity": 0.2
            },
            "type": "scatter"
           }
          ],
          "scatter3d": [
           {
            "line": {
             "colorbar": {
              "outlinewidth": 0,
              "ticks": ""
             }
            },
            "marker": {
             "colorbar": {
              "outlinewidth": 0,
              "ticks": ""
             }
            },
            "type": "scatter3d"
           }
          ],
          "scattercarpet": [
           {
            "marker": {
             "colorbar": {
              "outlinewidth": 0,
              "ticks": ""
             }
            },
            "type": "scattercarpet"
           }
          ],
          "scattergeo": [
           {
            "marker": {
             "colorbar": {
              "outlinewidth": 0,
              "ticks": ""
             }
            },
            "type": "scattergeo"
           }
          ],
          "scattergl": [
           {
            "marker": {
             "colorbar": {
              "outlinewidth": 0,
              "ticks": ""
             }
            },
            "type": "scattergl"
           }
          ],
          "scattermap": [
           {
            "marker": {
             "colorbar": {
              "outlinewidth": 0,
              "ticks": ""
             }
            },
            "type": "scattermap"
           }
          ],
          "scattermapbox": [
           {
            "marker": {
             "colorbar": {
              "outlinewidth": 0,
              "ticks": ""
             }
            },
            "type": "scattermapbox"
           }
          ],
          "scatterpolar": [
           {
            "marker": {
             "colorbar": {
              "outlinewidth": 0,
              "ticks": ""
             }
            },
            "type": "scatterpolar"
           }
          ],
          "scatterpolargl": [
           {
            "marker": {
             "colorbar": {
              "outlinewidth": 0,
              "ticks": ""
             }
            },
            "type": "scatterpolargl"
           }
          ],
          "scatterternary": [
           {
            "marker": {
             "colorbar": {
              "outlinewidth": 0,
              "ticks": ""
             }
            },
            "type": "scatterternary"
           }
          ],
          "surface": [
           {
            "colorbar": {
             "outlinewidth": 0,
             "ticks": ""
            },
            "colorscale": [
             [
              0,
              "#0d0887"
             ],
             [
              0.1111111111111111,
              "#46039f"
             ],
             [
              0.2222222222222222,
              "#7201a8"
             ],
             [
              0.3333333333333333,
              "#9c179e"
             ],
             [
              0.4444444444444444,
              "#bd3786"
             ],
             [
              0.5555555555555556,
              "#d8576b"
             ],
             [
              0.6666666666666666,
              "#ed7953"
             ],
             [
              0.7777777777777778,
              "#fb9f3a"
             ],
             [
              0.8888888888888888,
              "#fdca26"
             ],
             [
              1,
              "#f0f921"
             ]
            ],
            "type": "surface"
           }
          ],
          "table": [
           {
            "cells": {
             "fill": {
              "color": "#EBF0F8"
             },
             "line": {
              "color": "white"
             }
            },
            "header": {
             "fill": {
              "color": "#C8D4E3"
             },
             "line": {
              "color": "white"
             }
            },
            "type": "table"
           }
          ]
         },
         "layout": {
          "annotationdefaults": {
           "arrowcolor": "#2a3f5f",
           "arrowhead": 0,
           "arrowwidth": 1
          },
          "autotypenumbers": "strict",
          "coloraxis": {
           "colorbar": {
            "outlinewidth": 0,
            "ticks": ""
           }
          },
          "colorscale": {
           "diverging": [
            [
             0,
             "#8e0152"
            ],
            [
             0.1,
             "#c51b7d"
            ],
            [
             0.2,
             "#de77ae"
            ],
            [
             0.3,
             "#f1b6da"
            ],
            [
             0.4,
             "#fde0ef"
            ],
            [
             0.5,
             "#f7f7f7"
            ],
            [
             0.6,
             "#e6f5d0"
            ],
            [
             0.7,
             "#b8e186"
            ],
            [
             0.8,
             "#7fbc41"
            ],
            [
             0.9,
             "#4d9221"
            ],
            [
             1,
             "#276419"
            ]
           ],
           "sequential": [
            [
             0,
             "#0d0887"
            ],
            [
             0.1111111111111111,
             "#46039f"
            ],
            [
             0.2222222222222222,
             "#7201a8"
            ],
            [
             0.3333333333333333,
             "#9c179e"
            ],
            [
             0.4444444444444444,
             "#bd3786"
            ],
            [
             0.5555555555555556,
             "#d8576b"
            ],
            [
             0.6666666666666666,
             "#ed7953"
            ],
            [
             0.7777777777777778,
             "#fb9f3a"
            ],
            [
             0.8888888888888888,
             "#fdca26"
            ],
            [
             1,
             "#f0f921"
            ]
           ],
           "sequentialminus": [
            [
             0,
             "#0d0887"
            ],
            [
             0.1111111111111111,
             "#46039f"
            ],
            [
             0.2222222222222222,
             "#7201a8"
            ],
            [
             0.3333333333333333,
             "#9c179e"
            ],
            [
             0.4444444444444444,
             "#bd3786"
            ],
            [
             0.5555555555555556,
             "#d8576b"
            ],
            [
             0.6666666666666666,
             "#ed7953"
            ],
            [
             0.7777777777777778,
             "#fb9f3a"
            ],
            [
             0.8888888888888888,
             "#fdca26"
            ],
            [
             1,
             "#f0f921"
            ]
           ]
          },
          "colorway": [
           "#636efa",
           "#EF553B",
           "#00cc96",
           "#ab63fa",
           "#FFA15A",
           "#19d3f3",
           "#FF6692",
           "#B6E880",
           "#FF97FF",
           "#FECB52"
          ],
          "font": {
           "color": "#2a3f5f"
          },
          "geo": {
           "bgcolor": "white",
           "lakecolor": "white",
           "landcolor": "#E5ECF6",
           "showlakes": true,
           "showland": true,
           "subunitcolor": "white"
          },
          "hoverlabel": {
           "align": "left"
          },
          "hovermode": "closest",
          "mapbox": {
           "style": "light"
          },
          "paper_bgcolor": "white",
          "plot_bgcolor": "#E5ECF6",
          "polar": {
           "angularaxis": {
            "gridcolor": "white",
            "linecolor": "white",
            "ticks": ""
           },
           "bgcolor": "#E5ECF6",
           "radialaxis": {
            "gridcolor": "white",
            "linecolor": "white",
            "ticks": ""
           }
          },
          "scene": {
           "xaxis": {
            "backgroundcolor": "#E5ECF6",
            "gridcolor": "white",
            "gridwidth": 2,
            "linecolor": "white",
            "showbackground": true,
            "ticks": "",
            "zerolinecolor": "white"
           },
           "yaxis": {
            "backgroundcolor": "#E5ECF6",
            "gridcolor": "white",
            "gridwidth": 2,
            "linecolor": "white",
            "showbackground": true,
            "ticks": "",
            "zerolinecolor": "white"
           },
           "zaxis": {
            "backgroundcolor": "#E5ECF6",
            "gridcolor": "white",
            "gridwidth": 2,
            "linecolor": "white",
            "showbackground": true,
            "ticks": "",
            "zerolinecolor": "white"
           }
          },
          "shapedefaults": {
           "line": {
            "color": "#2a3f5f"
           }
          },
          "ternary": {
           "aaxis": {
            "gridcolor": "white",
            "linecolor": "white",
            "ticks": ""
           },
           "baxis": {
            "gridcolor": "white",
            "linecolor": "white",
            "ticks": ""
           },
           "bgcolor": "#E5ECF6",
           "caxis": {
            "gridcolor": "white",
            "linecolor": "white",
            "ticks": ""
           }
          },
          "title": {
           "x": 0.05
          },
          "xaxis": {
           "automargin": true,
           "gridcolor": "white",
           "linecolor": "white",
           "ticks": "",
           "title": {
            "standoff": 15
           },
           "zerolinecolor": "white",
           "zerolinewidth": 2
          },
          "yaxis": {
           "automargin": true,
           "gridcolor": "white",
           "linecolor": "white",
           "ticks": "",
           "title": {
            "standoff": 15
           },
           "zerolinecolor": "white",
           "zerolinewidth": 2
          }
         }
        },
        "title": {
         "text": "Top 20 Feature Coefficients"
        },
        "xaxis": {
         "anchor": "y",
         "domain": [
          0,
          1
         ],
         "tickangle": 90,
         "title": {
          "text": "Feature"
         }
        },
        "yaxis": {
         "anchor": "x",
         "domain": [
          0,
          1
         ],
         "title": {
          "text": "Coefficient"
         }
        }
       }
      }
     },
     "metadata": {},
     "output_type": "display_data"
    }
   ],
   "source": [
    "# plot the coefficients using plotly\n",
    "fig = px.bar(coef_df.head(20), x='Feature', y='Coefficient', title='Top 20 Feature Coefficients')\n",
    "fig.update_layout(xaxis_tickangle=90)\n",
    "fig.show()\n",
    "\n",
    "# Save to JSON\n",
    "with open(\"../content/coefficients.json\", \"w\") as f:\n",
    "    f.write(fig.to_json())"
   ]
  },
  {
   "cell_type": "code",
   "execution_count": 45,
   "id": "652e1af5",
   "metadata": {},
   "outputs": [
    {
     "name": "stdout",
     "output_type": "stream",
     "text": [
      "Transformation Pipeline and Model Successfully Saved\n"
     ]
    },
    {
     "data": {
      "text/plain": [
       "(Pipeline(memory=Memory(location=None),\n",
       "          steps=[('clean_column_names',\n",
       "                  TransformerWrapper(exclude=None, include=None,\n",
       "                                     transformer=CleanColumnNames(match='[\\\\]\\\\[\\\\,\\\\{\\\\}\\\\\"\\\\:]+'))),\n",
       "                 ('actual_estimator',\n",
       "                  LogisticRegression(C=0.056, class_weight={}, dual=False,\n",
       "                                     fit_intercept=True, intercept_scaling=1,\n",
       "                                     l1_ratio=None, max_iter=1000,\n",
       "                                     multi_class='auto', n_jobs=None,\n",
       "                                     penalty='l2', random_state=123,\n",
       "                                     solver='lbfgs', tol=0.0001, verbose=0,\n",
       "                                     warm_start=False))],\n",
       "          verbose=False),\n",
       " '../content/stroke_risk_model.pkl')"
      ]
     },
     "execution_count": 45,
     "metadata": {},
     "output_type": "execute_result"
    }
   ],
   "source": [
    "# Save the final model\n",
    "save_model(final_model, \"../content/stroke_risk_model\")"
   ]
  },
  {
   "cell_type": "code",
   "execution_count": 56,
   "id": "e8a60f3f",
   "metadata": {},
   "outputs": [
    {
     "data": {
      "text/plain": [
       "Index(['age', 'hypertension', 'heart_disease', 'avg_glucose_level', 'bmi',\n",
       "       'gender_Male', 'gender_Other', 'ever_married_Yes',\n",
       "       'work_type_Never_worked', 'work_type_Private',\n",
       "       'work_type_Self-employed', 'work_type_children', 'Residence_type_Urban',\n",
       "       'smoking_status_formerly smoked', 'smoking_status_never smoked',\n",
       "       'smoking_status_smokes', 'stroke'],\n",
       "      dtype='object')"
      ]
     },
     "execution_count": 56,
     "metadata": {},
     "output_type": "execute_result"
    }
   ],
   "source": [
    "final_data.columns"
   ]
  },
  {
   "cell_type": "code",
   "execution_count": 58,
   "id": "07a672ae",
   "metadata": {},
   "outputs": [],
   "source": [
    "# for each column in final_data, store the mean and std in a dictionary for future normalization\n",
    "scaling_params = {}\n",
    "for col in final_data.columns:\n",
    "    scaling_params[col] = {\n",
    "        \"mean\": final_data[col].mean(),\n",
    "        \"std\": final_data[col].std()\n",
    "    }\n",
    "with open(\"../content/scaling_params.json\", \"w\") as f:\n",
    "    json.dump(scaling_params, f)"
   ]
  },
  {
   "cell_type": "code",
   "execution_count": null,
   "id": "92ab287a",
   "metadata": {},
   "outputs": [],
   "source": []
  }
 ],
 "metadata": {
  "kernelspec": {
   "display_name": "pycaret",
   "language": "python",
   "name": "python3"
  },
  "language_info": {
   "codemirror_mode": {
    "name": "ipython",
    "version": 3
   },
   "file_extension": ".py",
   "mimetype": "text/x-python",
   "name": "python",
   "nbconvert_exporter": "python",
   "pygments_lexer": "ipython3",
   "version": "3.10.4"
  }
 },
 "nbformat": 4,
 "nbformat_minor": 5
}
